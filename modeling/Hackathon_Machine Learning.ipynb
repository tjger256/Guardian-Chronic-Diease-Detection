{
  "nbformat": 4,
  "nbformat_minor": 0,
  "metadata": {
    "colab": {
      "provenance": []
    },
    "kernelspec": {
      "name": "python3",
      "display_name": "Python 3"
    },
    "language_info": {
      "name": "python"
    }
  },
  "cells": [
    {
      "cell_type": "markdown",
      "source": [
        "## Importing Model"
      ],
      "metadata": {
        "id": "gWi2PMOiGzir"
      }
    },
    {
      "cell_type": "code",
      "execution_count": 58,
      "metadata": {
        "colab": {
          "base_uri": "https://localhost:8080/",
          "height": 0
        },
        "id": "JxaKK0DfqxmN",
        "outputId": "4499f349-1155-4d7b-d557-3e8dca572ea3"
      },
      "outputs": [
        {
          "output_type": "stream",
          "name": "stdout",
          "text": [
            "Requirement already satisfied: imbalanced-learn in /usr/local/lib/python3.10/dist-packages (0.12.2)\n",
            "Requirement already satisfied: numpy>=1.17.3 in /usr/local/lib/python3.10/dist-packages (from imbalanced-learn) (1.25.2)\n",
            "Requirement already satisfied: scipy>=1.5.0 in /usr/local/lib/python3.10/dist-packages (from imbalanced-learn) (1.11.4)\n",
            "Requirement already satisfied: scikit-learn>=1.0.2 in /usr/local/lib/python3.10/dist-packages (from imbalanced-learn) (1.2.2)\n",
            "Requirement already satisfied: joblib>=1.1.1 in /usr/local/lib/python3.10/dist-packages (from imbalanced-learn) (1.3.2)\n",
            "Requirement already satisfied: threadpoolctl>=2.0.0 in /usr/local/lib/python3.10/dist-packages (from imbalanced-learn) (3.4.0)\n"
          ]
        }
      ],
      "source": [
        "import pandas as pd\n",
        "import numpy as np\n",
        "import matplotlib.pyplot as plt\n",
        "import matplotlib as mpl\n",
        "from sklearn.metrics import roc_auc_score\n",
        "from sklearn.metrics import roc_curve\n",
        "from sklearn.preprocessing import LabelEncoder\n",
        "from sklearn.preprocessing import OneHotEncoder\n",
        "import seaborn as sns\n",
        "from sklearn.metrics import confusion_matrix\n",
        "! pip install -U imbalanced-learn"
      ]
    },
    {
      "cell_type": "code",
      "source": [
        "!wget https://gitlab.com/codeshells/modeling/-/raw/main/Heart_Disease.csv\n",
        "url = \"https://gitlab.com/codeshells/modeling/-/raw/main/Heart_Disease.csv\"\n",
        "df = pd.read_csv(url)\n"
      ],
      "metadata": {
        "colab": {
          "base_uri": "https://localhost:8080/",
          "height": 0
        },
        "id": "BYSQ7Gl8rBFY",
        "outputId": "bae2dc3a-bcb6-4aa5-e3f5-051e309a6720"
      },
      "execution_count": 59,
      "outputs": [
        {
          "output_type": "stream",
          "name": "stdout",
          "text": [
            "--2024-04-10 17:29:33--  https://gitlab.com/codeshells/modeling/-/raw/main/Heart_Disease.csv\n",
            "Resolving gitlab.com (gitlab.com)... 172.65.251.78, 2606:4700:90:0:f22e:fbec:5bed:a9b9\n",
            "Connecting to gitlab.com (gitlab.com)|172.65.251.78|:443... connected.\n",
            "HTTP request sent, awaiting response... 200 OK\n",
            "Length: 81984258 (78M) [text/plain]\n",
            "Saving to: ‘Heart_Disease.csv.1’\n",
            "\n",
            "Heart_Disease.csv.1 100%[===================>]  78.19M   183MB/s    in 0.4s    \n",
            "\n",
            "2024-04-10 17:29:34 (183 MB/s) - ‘Heart_Disease.csv.1’ saved [81984258/81984258]\n",
            "\n"
          ]
        }
      ]
    },
    {
      "cell_type": "code",
      "source": [
        "df.head()"
      ],
      "metadata": {
        "colab": {
          "base_uri": "https://localhost:8080/",
          "height": 429
        },
        "id": "zvqZt6qBDBy8",
        "outputId": "b7dd9116-57ca-46da-96fc-e90e023a632e"
      },
      "execution_count": 60,
      "outputs": [
        {
          "output_type": "execute_result",
          "data": {
            "text/plain": [
              "     State     Sex GeneralHealth  PhysicalHealthDays  MentalHealthDays  \\\n",
              "0  Alabama  Female     Very good                 4.0               0.0   \n",
              "1  Alabama    Male     Very good                 0.0               0.0   \n",
              "2  Alabama    Male     Very good                 0.0               0.0   \n",
              "3  Alabama  Female          Fair                 5.0               0.0   \n",
              "4  Alabama  Female          Good                 3.0              15.0   \n",
              "\n",
              "                                     LastCheckupTime PhysicalActivities  \\\n",
              "0  Within past year (anytime less than 12 months ...                Yes   \n",
              "1  Within past year (anytime less than 12 months ...                Yes   \n",
              "2  Within past year (anytime less than 12 months ...                 No   \n",
              "3  Within past year (anytime less than 12 months ...                Yes   \n",
              "4  Within past year (anytime less than 12 months ...                Yes   \n",
              "\n",
              "   SleepHours            RemovedTeeth HadHeartAttack  ... HeightInMeters  \\\n",
              "0         9.0            None of them             No  ...           1.60   \n",
              "1         6.0            None of them             No  ...           1.78   \n",
              "2         8.0  6 or more, but not all             No  ...           1.85   \n",
              "3         9.0            None of them             No  ...           1.70   \n",
              "4         5.0                  1 to 5             No  ...           1.55   \n",
              "\n",
              "  WeightInKilograms    BMI AlcoholDrinkers HIVTesting FluVaxLast12  \\\n",
              "0             71.67  27.99              No         No          Yes   \n",
              "1             95.25  30.13              No         No          Yes   \n",
              "2            108.86  31.66             Yes         No           No   \n",
              "3             90.72  31.32              No         No          Yes   \n",
              "4             79.38  33.07              No         No          Yes   \n",
              "\n",
              "  PneumoVaxEver                                  TetanusLast10Tdap  \\\n",
              "0           Yes                                 Yes, received Tdap   \n",
              "1           Yes  Yes, received tetanus shot but not sure what type   \n",
              "2           Yes  No, did not receive any tetanus shot in the pa...   \n",
              "3           Yes  No, did not receive any tetanus shot in the pa...   \n",
              "4           Yes  No, did not receive any tetanus shot in the pa...   \n",
              "\n",
              "  HighRiskLastYear CovidPos  \n",
              "0               No       No  \n",
              "1               No       No  \n",
              "2               No      Yes  \n",
              "3               No      Yes  \n",
              "4               No       No  \n",
              "\n",
              "[5 rows x 40 columns]"
            ],
            "text/html": [
              "\n",
              "  <div id=\"df-ee76c94c-0d77-4ce7-9904-dc712094f892\" class=\"colab-df-container\">\n",
              "    <div>\n",
              "<style scoped>\n",
              "    .dataframe tbody tr th:only-of-type {\n",
              "        vertical-align: middle;\n",
              "    }\n",
              "\n",
              "    .dataframe tbody tr th {\n",
              "        vertical-align: top;\n",
              "    }\n",
              "\n",
              "    .dataframe thead th {\n",
              "        text-align: right;\n",
              "    }\n",
              "</style>\n",
              "<table border=\"1\" class=\"dataframe\">\n",
              "  <thead>\n",
              "    <tr style=\"text-align: right;\">\n",
              "      <th></th>\n",
              "      <th>State</th>\n",
              "      <th>Sex</th>\n",
              "      <th>GeneralHealth</th>\n",
              "      <th>PhysicalHealthDays</th>\n",
              "      <th>MentalHealthDays</th>\n",
              "      <th>LastCheckupTime</th>\n",
              "      <th>PhysicalActivities</th>\n",
              "      <th>SleepHours</th>\n",
              "      <th>RemovedTeeth</th>\n",
              "      <th>HadHeartAttack</th>\n",
              "      <th>...</th>\n",
              "      <th>HeightInMeters</th>\n",
              "      <th>WeightInKilograms</th>\n",
              "      <th>BMI</th>\n",
              "      <th>AlcoholDrinkers</th>\n",
              "      <th>HIVTesting</th>\n",
              "      <th>FluVaxLast12</th>\n",
              "      <th>PneumoVaxEver</th>\n",
              "      <th>TetanusLast10Tdap</th>\n",
              "      <th>HighRiskLastYear</th>\n",
              "      <th>CovidPos</th>\n",
              "    </tr>\n",
              "  </thead>\n",
              "  <tbody>\n",
              "    <tr>\n",
              "      <th>0</th>\n",
              "      <td>Alabama</td>\n",
              "      <td>Female</td>\n",
              "      <td>Very good</td>\n",
              "      <td>4.0</td>\n",
              "      <td>0.0</td>\n",
              "      <td>Within past year (anytime less than 12 months ...</td>\n",
              "      <td>Yes</td>\n",
              "      <td>9.0</td>\n",
              "      <td>None of them</td>\n",
              "      <td>No</td>\n",
              "      <td>...</td>\n",
              "      <td>1.60</td>\n",
              "      <td>71.67</td>\n",
              "      <td>27.99</td>\n",
              "      <td>No</td>\n",
              "      <td>No</td>\n",
              "      <td>Yes</td>\n",
              "      <td>Yes</td>\n",
              "      <td>Yes, received Tdap</td>\n",
              "      <td>No</td>\n",
              "      <td>No</td>\n",
              "    </tr>\n",
              "    <tr>\n",
              "      <th>1</th>\n",
              "      <td>Alabama</td>\n",
              "      <td>Male</td>\n",
              "      <td>Very good</td>\n",
              "      <td>0.0</td>\n",
              "      <td>0.0</td>\n",
              "      <td>Within past year (anytime less than 12 months ...</td>\n",
              "      <td>Yes</td>\n",
              "      <td>6.0</td>\n",
              "      <td>None of them</td>\n",
              "      <td>No</td>\n",
              "      <td>...</td>\n",
              "      <td>1.78</td>\n",
              "      <td>95.25</td>\n",
              "      <td>30.13</td>\n",
              "      <td>No</td>\n",
              "      <td>No</td>\n",
              "      <td>Yes</td>\n",
              "      <td>Yes</td>\n",
              "      <td>Yes, received tetanus shot but not sure what type</td>\n",
              "      <td>No</td>\n",
              "      <td>No</td>\n",
              "    </tr>\n",
              "    <tr>\n",
              "      <th>2</th>\n",
              "      <td>Alabama</td>\n",
              "      <td>Male</td>\n",
              "      <td>Very good</td>\n",
              "      <td>0.0</td>\n",
              "      <td>0.0</td>\n",
              "      <td>Within past year (anytime less than 12 months ...</td>\n",
              "      <td>No</td>\n",
              "      <td>8.0</td>\n",
              "      <td>6 or more, but not all</td>\n",
              "      <td>No</td>\n",
              "      <td>...</td>\n",
              "      <td>1.85</td>\n",
              "      <td>108.86</td>\n",
              "      <td>31.66</td>\n",
              "      <td>Yes</td>\n",
              "      <td>No</td>\n",
              "      <td>No</td>\n",
              "      <td>Yes</td>\n",
              "      <td>No, did not receive any tetanus shot in the pa...</td>\n",
              "      <td>No</td>\n",
              "      <td>Yes</td>\n",
              "    </tr>\n",
              "    <tr>\n",
              "      <th>3</th>\n",
              "      <td>Alabama</td>\n",
              "      <td>Female</td>\n",
              "      <td>Fair</td>\n",
              "      <td>5.0</td>\n",
              "      <td>0.0</td>\n",
              "      <td>Within past year (anytime less than 12 months ...</td>\n",
              "      <td>Yes</td>\n",
              "      <td>9.0</td>\n",
              "      <td>None of them</td>\n",
              "      <td>No</td>\n",
              "      <td>...</td>\n",
              "      <td>1.70</td>\n",
              "      <td>90.72</td>\n",
              "      <td>31.32</td>\n",
              "      <td>No</td>\n",
              "      <td>No</td>\n",
              "      <td>Yes</td>\n",
              "      <td>Yes</td>\n",
              "      <td>No, did not receive any tetanus shot in the pa...</td>\n",
              "      <td>No</td>\n",
              "      <td>Yes</td>\n",
              "    </tr>\n",
              "    <tr>\n",
              "      <th>4</th>\n",
              "      <td>Alabama</td>\n",
              "      <td>Female</td>\n",
              "      <td>Good</td>\n",
              "      <td>3.0</td>\n",
              "      <td>15.0</td>\n",
              "      <td>Within past year (anytime less than 12 months ...</td>\n",
              "      <td>Yes</td>\n",
              "      <td>5.0</td>\n",
              "      <td>1 to 5</td>\n",
              "      <td>No</td>\n",
              "      <td>...</td>\n",
              "      <td>1.55</td>\n",
              "      <td>79.38</td>\n",
              "      <td>33.07</td>\n",
              "      <td>No</td>\n",
              "      <td>No</td>\n",
              "      <td>Yes</td>\n",
              "      <td>Yes</td>\n",
              "      <td>No, did not receive any tetanus shot in the pa...</td>\n",
              "      <td>No</td>\n",
              "      <td>No</td>\n",
              "    </tr>\n",
              "  </tbody>\n",
              "</table>\n",
              "<p>5 rows × 40 columns</p>\n",
              "</div>\n",
              "    <div class=\"colab-df-buttons\">\n",
              "\n",
              "  <div class=\"colab-df-container\">\n",
              "    <button class=\"colab-df-convert\" onclick=\"convertToInteractive('df-ee76c94c-0d77-4ce7-9904-dc712094f892')\"\n",
              "            title=\"Convert this dataframe to an interactive table.\"\n",
              "            style=\"display:none;\">\n",
              "\n",
              "  <svg xmlns=\"http://www.w3.org/2000/svg\" height=\"24px\" viewBox=\"0 -960 960 960\">\n",
              "    <path d=\"M120-120v-720h720v720H120Zm60-500h600v-160H180v160Zm220 220h160v-160H400v160Zm0 220h160v-160H400v160ZM180-400h160v-160H180v160Zm440 0h160v-160H620v160ZM180-180h160v-160H180v160Zm440 0h160v-160H620v160Z\"/>\n",
              "  </svg>\n",
              "    </button>\n",
              "\n",
              "  <style>\n",
              "    .colab-df-container {\n",
              "      display:flex;\n",
              "      gap: 12px;\n",
              "    }\n",
              "\n",
              "    .colab-df-convert {\n",
              "      background-color: #E8F0FE;\n",
              "      border: none;\n",
              "      border-radius: 50%;\n",
              "      cursor: pointer;\n",
              "      display: none;\n",
              "      fill: #1967D2;\n",
              "      height: 32px;\n",
              "      padding: 0 0 0 0;\n",
              "      width: 32px;\n",
              "    }\n",
              "\n",
              "    .colab-df-convert:hover {\n",
              "      background-color: #E2EBFA;\n",
              "      box-shadow: 0px 1px 2px rgba(60, 64, 67, 0.3), 0px 1px 3px 1px rgba(60, 64, 67, 0.15);\n",
              "      fill: #174EA6;\n",
              "    }\n",
              "\n",
              "    .colab-df-buttons div {\n",
              "      margin-bottom: 4px;\n",
              "    }\n",
              "\n",
              "    [theme=dark] .colab-df-convert {\n",
              "      background-color: #3B4455;\n",
              "      fill: #D2E3FC;\n",
              "    }\n",
              "\n",
              "    [theme=dark] .colab-df-convert:hover {\n",
              "      background-color: #434B5C;\n",
              "      box-shadow: 0px 1px 3px 1px rgba(0, 0, 0, 0.15);\n",
              "      filter: drop-shadow(0px 1px 2px rgba(0, 0, 0, 0.3));\n",
              "      fill: #FFFFFF;\n",
              "    }\n",
              "  </style>\n",
              "\n",
              "    <script>\n",
              "      const buttonEl =\n",
              "        document.querySelector('#df-ee76c94c-0d77-4ce7-9904-dc712094f892 button.colab-df-convert');\n",
              "      buttonEl.style.display =\n",
              "        google.colab.kernel.accessAllowed ? 'block' : 'none';\n",
              "\n",
              "      async function convertToInteractive(key) {\n",
              "        const element = document.querySelector('#df-ee76c94c-0d77-4ce7-9904-dc712094f892');\n",
              "        const dataTable =\n",
              "          await google.colab.kernel.invokeFunction('convertToInteractive',\n",
              "                                                    [key], {});\n",
              "        if (!dataTable) return;\n",
              "\n",
              "        const docLinkHtml = 'Like what you see? Visit the ' +\n",
              "          '<a target=\"_blank\" href=https://colab.research.google.com/notebooks/data_table.ipynb>data table notebook</a>'\n",
              "          + ' to learn more about interactive tables.';\n",
              "        element.innerHTML = '';\n",
              "        dataTable['output_type'] = 'display_data';\n",
              "        await google.colab.output.renderOutput(dataTable, element);\n",
              "        const docLink = document.createElement('div');\n",
              "        docLink.innerHTML = docLinkHtml;\n",
              "        element.appendChild(docLink);\n",
              "      }\n",
              "    </script>\n",
              "  </div>\n",
              "\n",
              "\n",
              "<div id=\"df-54ebe6ae-15f0-4c8a-973f-3326c7a3dfd4\">\n",
              "  <button class=\"colab-df-quickchart\" onclick=\"quickchart('df-54ebe6ae-15f0-4c8a-973f-3326c7a3dfd4')\"\n",
              "            title=\"Suggest charts\"\n",
              "            style=\"display:none;\">\n",
              "\n",
              "<svg xmlns=\"http://www.w3.org/2000/svg\" height=\"24px\"viewBox=\"0 0 24 24\"\n",
              "     width=\"24px\">\n",
              "    <g>\n",
              "        <path d=\"M19 3H5c-1.1 0-2 .9-2 2v14c0 1.1.9 2 2 2h14c1.1 0 2-.9 2-2V5c0-1.1-.9-2-2-2zM9 17H7v-7h2v7zm4 0h-2V7h2v10zm4 0h-2v-4h2v4z\"/>\n",
              "    </g>\n",
              "</svg>\n",
              "  </button>\n",
              "\n",
              "<style>\n",
              "  .colab-df-quickchart {\n",
              "      --bg-color: #E8F0FE;\n",
              "      --fill-color: #1967D2;\n",
              "      --hover-bg-color: #E2EBFA;\n",
              "      --hover-fill-color: #174EA6;\n",
              "      --disabled-fill-color: #AAA;\n",
              "      --disabled-bg-color: #DDD;\n",
              "  }\n",
              "\n",
              "  [theme=dark] .colab-df-quickchart {\n",
              "      --bg-color: #3B4455;\n",
              "      --fill-color: #D2E3FC;\n",
              "      --hover-bg-color: #434B5C;\n",
              "      --hover-fill-color: #FFFFFF;\n",
              "      --disabled-bg-color: #3B4455;\n",
              "      --disabled-fill-color: #666;\n",
              "  }\n",
              "\n",
              "  .colab-df-quickchart {\n",
              "    background-color: var(--bg-color);\n",
              "    border: none;\n",
              "    border-radius: 50%;\n",
              "    cursor: pointer;\n",
              "    display: none;\n",
              "    fill: var(--fill-color);\n",
              "    height: 32px;\n",
              "    padding: 0;\n",
              "    width: 32px;\n",
              "  }\n",
              "\n",
              "  .colab-df-quickchart:hover {\n",
              "    background-color: var(--hover-bg-color);\n",
              "    box-shadow: 0 1px 2px rgba(60, 64, 67, 0.3), 0 1px 3px 1px rgba(60, 64, 67, 0.15);\n",
              "    fill: var(--button-hover-fill-color);\n",
              "  }\n",
              "\n",
              "  .colab-df-quickchart-complete:disabled,\n",
              "  .colab-df-quickchart-complete:disabled:hover {\n",
              "    background-color: var(--disabled-bg-color);\n",
              "    fill: var(--disabled-fill-color);\n",
              "    box-shadow: none;\n",
              "  }\n",
              "\n",
              "  .colab-df-spinner {\n",
              "    border: 2px solid var(--fill-color);\n",
              "    border-color: transparent;\n",
              "    border-bottom-color: var(--fill-color);\n",
              "    animation:\n",
              "      spin 1s steps(1) infinite;\n",
              "  }\n",
              "\n",
              "  @keyframes spin {\n",
              "    0% {\n",
              "      border-color: transparent;\n",
              "      border-bottom-color: var(--fill-color);\n",
              "      border-left-color: var(--fill-color);\n",
              "    }\n",
              "    20% {\n",
              "      border-color: transparent;\n",
              "      border-left-color: var(--fill-color);\n",
              "      border-top-color: var(--fill-color);\n",
              "    }\n",
              "    30% {\n",
              "      border-color: transparent;\n",
              "      border-left-color: var(--fill-color);\n",
              "      border-top-color: var(--fill-color);\n",
              "      border-right-color: var(--fill-color);\n",
              "    }\n",
              "    40% {\n",
              "      border-color: transparent;\n",
              "      border-right-color: var(--fill-color);\n",
              "      border-top-color: var(--fill-color);\n",
              "    }\n",
              "    60% {\n",
              "      border-color: transparent;\n",
              "      border-right-color: var(--fill-color);\n",
              "    }\n",
              "    80% {\n",
              "      border-color: transparent;\n",
              "      border-right-color: var(--fill-color);\n",
              "      border-bottom-color: var(--fill-color);\n",
              "    }\n",
              "    90% {\n",
              "      border-color: transparent;\n",
              "      border-bottom-color: var(--fill-color);\n",
              "    }\n",
              "  }\n",
              "</style>\n",
              "\n",
              "  <script>\n",
              "    async function quickchart(key) {\n",
              "      const quickchartButtonEl =\n",
              "        document.querySelector('#' + key + ' button');\n",
              "      quickchartButtonEl.disabled = true;  // To prevent multiple clicks.\n",
              "      quickchartButtonEl.classList.add('colab-df-spinner');\n",
              "      try {\n",
              "        const charts = await google.colab.kernel.invokeFunction(\n",
              "            'suggestCharts', [key], {});\n",
              "      } catch (error) {\n",
              "        console.error('Error during call to suggestCharts:', error);\n",
              "      }\n",
              "      quickchartButtonEl.classList.remove('colab-df-spinner');\n",
              "      quickchartButtonEl.classList.add('colab-df-quickchart-complete');\n",
              "    }\n",
              "    (() => {\n",
              "      let quickchartButtonEl =\n",
              "        document.querySelector('#df-54ebe6ae-15f0-4c8a-973f-3326c7a3dfd4 button');\n",
              "      quickchartButtonEl.style.display =\n",
              "        google.colab.kernel.accessAllowed ? 'block' : 'none';\n",
              "    })();\n",
              "  </script>\n",
              "</div>\n",
              "\n",
              "    </div>\n",
              "  </div>\n"
            ],
            "application/vnd.google.colaboratory.intrinsic+json": {
              "type": "dataframe",
              "variable_name": "df"
            }
          },
          "metadata": {},
          "execution_count": 60
        }
      ]
    },
    {
      "cell_type": "code",
      "source": [],
      "metadata": {
        "id": "0_cWbJMkGyZ9"
      },
      "execution_count": null,
      "outputs": []
    },
    {
      "cell_type": "code",
      "source": [
        "df = df.dropna()\n",
        "df.info()"
      ],
      "metadata": {
        "colab": {
          "base_uri": "https://localhost:8080/",
          "height": 0
        },
        "id": "dLv-qX9BrF7v",
        "outputId": "76870100-c2ca-4e59-f38e-d62fe57e5629"
      },
      "execution_count": 61,
      "outputs": [
        {
          "output_type": "stream",
          "name": "stdout",
          "text": [
            "<class 'pandas.core.frame.DataFrame'>\n",
            "RangeIndex: 246022 entries, 0 to 246021\n",
            "Data columns (total 40 columns):\n",
            " #   Column                     Non-Null Count   Dtype  \n",
            "---  ------                     --------------   -----  \n",
            " 0   State                      246022 non-null  object \n",
            " 1   Sex                        246022 non-null  object \n",
            " 2   GeneralHealth              246022 non-null  object \n",
            " 3   PhysicalHealthDays         246022 non-null  float64\n",
            " 4   MentalHealthDays           246022 non-null  float64\n",
            " 5   LastCheckupTime            246022 non-null  object \n",
            " 6   PhysicalActivities         246022 non-null  object \n",
            " 7   SleepHours                 246022 non-null  float64\n",
            " 8   RemovedTeeth               246022 non-null  object \n",
            " 9   HadHeartAttack             246022 non-null  object \n",
            " 10  HadAngina                  246022 non-null  object \n",
            " 11  HadStroke                  246022 non-null  object \n",
            " 12  HadAsthma                  246022 non-null  object \n",
            " 13  HadSkinCancer              246022 non-null  object \n",
            " 14  HadCOPD                    246022 non-null  object \n",
            " 15  HadDepressiveDisorder      246022 non-null  object \n",
            " 16  HadKidneyDisease           246022 non-null  object \n",
            " 17  HadArthritis               246022 non-null  object \n",
            " 18  HadDiabetes                246022 non-null  object \n",
            " 19  DeafOrHardOfHearing        246022 non-null  object \n",
            " 20  BlindOrVisionDifficulty    246022 non-null  object \n",
            " 21  DifficultyConcentrating    246022 non-null  object \n",
            " 22  DifficultyWalking          246022 non-null  object \n",
            " 23  DifficultyDressingBathing  246022 non-null  object \n",
            " 24  DifficultyErrands          246022 non-null  object \n",
            " 25  SmokerStatus               246022 non-null  object \n",
            " 26  ECigaretteUsage            246022 non-null  object \n",
            " 27  ChestScan                  246022 non-null  object \n",
            " 28  RaceEthnicityCategory      246022 non-null  object \n",
            " 29  AgeCategory                246022 non-null  object \n",
            " 30  HeightInMeters             246022 non-null  float64\n",
            " 31  WeightInKilograms          246022 non-null  float64\n",
            " 32  BMI                        246022 non-null  float64\n",
            " 33  AlcoholDrinkers            246022 non-null  object \n",
            " 34  HIVTesting                 246022 non-null  object \n",
            " 35  FluVaxLast12               246022 non-null  object \n",
            " 36  PneumoVaxEver              246022 non-null  object \n",
            " 37  TetanusLast10Tdap          246022 non-null  object \n",
            " 38  HighRiskLastYear           246022 non-null  object \n",
            " 39  CovidPos                   246022 non-null  object \n",
            "dtypes: float64(6), object(34)\n",
            "memory usage: 75.1+ MB\n"
          ]
        }
      ]
    },
    {
      "cell_type": "code",
      "source": [
        "from sklearn.preprocessing import LabelEncoder\n",
        "import pandas as pd\n",
        "\n",
        "df_encoded = df.copy()\n",
        "\n",
        "label_encoder = LabelEncoder()\n",
        "\n",
        "for column in df_encoded.columns:\n",
        "    if df_encoded[column].dtype == 'object':\n",
        "        df_encoded[column] = label_encoder.fit_transform(df_encoded[column])\n",
        "\n"
      ],
      "metadata": {
        "id": "6uTIaoDLrUQT"
      },
      "execution_count": 62,
      "outputs": []
    },
    {
      "cell_type": "code",
      "source": [
        "df_encoded.head()"
      ],
      "metadata": {
        "colab": {
          "base_uri": "https://localhost:8080/",
          "height": 255
        },
        "id": "KPc8jV2hr-Co",
        "outputId": "57bd098d-9974-4fc9-e01e-790a53779ff0"
      },
      "execution_count": 63,
      "outputs": [
        {
          "output_type": "execute_result",
          "data": {
            "text/plain": [
              "   State  Sex  GeneralHealth  PhysicalHealthDays  MentalHealthDays  \\\n",
              "0      0    0              4                 4.0               0.0   \n",
              "1      0    1              4                 0.0               0.0   \n",
              "2      0    1              4                 0.0               0.0   \n",
              "3      0    0              1                 5.0               0.0   \n",
              "4      0    0              2                 3.0              15.0   \n",
              "\n",
              "   LastCheckupTime  PhysicalActivities  SleepHours  RemovedTeeth  \\\n",
              "0                3                   1         9.0             3   \n",
              "1                3                   1         6.0             3   \n",
              "2                3                   0         8.0             1   \n",
              "3                3                   1         9.0             3   \n",
              "4                3                   1         5.0             0   \n",
              "\n",
              "   HadHeartAttack  ...  HeightInMeters  WeightInKilograms    BMI  \\\n",
              "0               0  ...            1.60              71.67  27.99   \n",
              "1               0  ...            1.78              95.25  30.13   \n",
              "2               0  ...            1.85             108.86  31.66   \n",
              "3               0  ...            1.70              90.72  31.32   \n",
              "4               0  ...            1.55              79.38  33.07   \n",
              "\n",
              "   AlcoholDrinkers  HIVTesting  FluVaxLast12  PneumoVaxEver  \\\n",
              "0                0           0             1              1   \n",
              "1                0           0             1              1   \n",
              "2                1           0             0              1   \n",
              "3                0           0             1              1   \n",
              "4                0           0             1              1   \n",
              "\n",
              "   TetanusLast10Tdap  HighRiskLastYear  CovidPos  \n",
              "0                  1                 0         0  \n",
              "1                  2                 0         0  \n",
              "2                  0                 0         2  \n",
              "3                  0                 0         2  \n",
              "4                  0                 0         0  \n",
              "\n",
              "[5 rows x 40 columns]"
            ],
            "text/html": [
              "\n",
              "  <div id=\"df-7dab8a02-4737-46ce-9c3b-3e0210036f22\" class=\"colab-df-container\">\n",
              "    <div>\n",
              "<style scoped>\n",
              "    .dataframe tbody tr th:only-of-type {\n",
              "        vertical-align: middle;\n",
              "    }\n",
              "\n",
              "    .dataframe tbody tr th {\n",
              "        vertical-align: top;\n",
              "    }\n",
              "\n",
              "    .dataframe thead th {\n",
              "        text-align: right;\n",
              "    }\n",
              "</style>\n",
              "<table border=\"1\" class=\"dataframe\">\n",
              "  <thead>\n",
              "    <tr style=\"text-align: right;\">\n",
              "      <th></th>\n",
              "      <th>State</th>\n",
              "      <th>Sex</th>\n",
              "      <th>GeneralHealth</th>\n",
              "      <th>PhysicalHealthDays</th>\n",
              "      <th>MentalHealthDays</th>\n",
              "      <th>LastCheckupTime</th>\n",
              "      <th>PhysicalActivities</th>\n",
              "      <th>SleepHours</th>\n",
              "      <th>RemovedTeeth</th>\n",
              "      <th>HadHeartAttack</th>\n",
              "      <th>...</th>\n",
              "      <th>HeightInMeters</th>\n",
              "      <th>WeightInKilograms</th>\n",
              "      <th>BMI</th>\n",
              "      <th>AlcoholDrinkers</th>\n",
              "      <th>HIVTesting</th>\n",
              "      <th>FluVaxLast12</th>\n",
              "      <th>PneumoVaxEver</th>\n",
              "      <th>TetanusLast10Tdap</th>\n",
              "      <th>HighRiskLastYear</th>\n",
              "      <th>CovidPos</th>\n",
              "    </tr>\n",
              "  </thead>\n",
              "  <tbody>\n",
              "    <tr>\n",
              "      <th>0</th>\n",
              "      <td>0</td>\n",
              "      <td>0</td>\n",
              "      <td>4</td>\n",
              "      <td>4.0</td>\n",
              "      <td>0.0</td>\n",
              "      <td>3</td>\n",
              "      <td>1</td>\n",
              "      <td>9.0</td>\n",
              "      <td>3</td>\n",
              "      <td>0</td>\n",
              "      <td>...</td>\n",
              "      <td>1.60</td>\n",
              "      <td>71.67</td>\n",
              "      <td>27.99</td>\n",
              "      <td>0</td>\n",
              "      <td>0</td>\n",
              "      <td>1</td>\n",
              "      <td>1</td>\n",
              "      <td>1</td>\n",
              "      <td>0</td>\n",
              "      <td>0</td>\n",
              "    </tr>\n",
              "    <tr>\n",
              "      <th>1</th>\n",
              "      <td>0</td>\n",
              "      <td>1</td>\n",
              "      <td>4</td>\n",
              "      <td>0.0</td>\n",
              "      <td>0.0</td>\n",
              "      <td>3</td>\n",
              "      <td>1</td>\n",
              "      <td>6.0</td>\n",
              "      <td>3</td>\n",
              "      <td>0</td>\n",
              "      <td>...</td>\n",
              "      <td>1.78</td>\n",
              "      <td>95.25</td>\n",
              "      <td>30.13</td>\n",
              "      <td>0</td>\n",
              "      <td>0</td>\n",
              "      <td>1</td>\n",
              "      <td>1</td>\n",
              "      <td>2</td>\n",
              "      <td>0</td>\n",
              "      <td>0</td>\n",
              "    </tr>\n",
              "    <tr>\n",
              "      <th>2</th>\n",
              "      <td>0</td>\n",
              "      <td>1</td>\n",
              "      <td>4</td>\n",
              "      <td>0.0</td>\n",
              "      <td>0.0</td>\n",
              "      <td>3</td>\n",
              "      <td>0</td>\n",
              "      <td>8.0</td>\n",
              "      <td>1</td>\n",
              "      <td>0</td>\n",
              "      <td>...</td>\n",
              "      <td>1.85</td>\n",
              "      <td>108.86</td>\n",
              "      <td>31.66</td>\n",
              "      <td>1</td>\n",
              "      <td>0</td>\n",
              "      <td>0</td>\n",
              "      <td>1</td>\n",
              "      <td>0</td>\n",
              "      <td>0</td>\n",
              "      <td>2</td>\n",
              "    </tr>\n",
              "    <tr>\n",
              "      <th>3</th>\n",
              "      <td>0</td>\n",
              "      <td>0</td>\n",
              "      <td>1</td>\n",
              "      <td>5.0</td>\n",
              "      <td>0.0</td>\n",
              "      <td>3</td>\n",
              "      <td>1</td>\n",
              "      <td>9.0</td>\n",
              "      <td>3</td>\n",
              "      <td>0</td>\n",
              "      <td>...</td>\n",
              "      <td>1.70</td>\n",
              "      <td>90.72</td>\n",
              "      <td>31.32</td>\n",
              "      <td>0</td>\n",
              "      <td>0</td>\n",
              "      <td>1</td>\n",
              "      <td>1</td>\n",
              "      <td>0</td>\n",
              "      <td>0</td>\n",
              "      <td>2</td>\n",
              "    </tr>\n",
              "    <tr>\n",
              "      <th>4</th>\n",
              "      <td>0</td>\n",
              "      <td>0</td>\n",
              "      <td>2</td>\n",
              "      <td>3.0</td>\n",
              "      <td>15.0</td>\n",
              "      <td>3</td>\n",
              "      <td>1</td>\n",
              "      <td>5.0</td>\n",
              "      <td>0</td>\n",
              "      <td>0</td>\n",
              "      <td>...</td>\n",
              "      <td>1.55</td>\n",
              "      <td>79.38</td>\n",
              "      <td>33.07</td>\n",
              "      <td>0</td>\n",
              "      <td>0</td>\n",
              "      <td>1</td>\n",
              "      <td>1</td>\n",
              "      <td>0</td>\n",
              "      <td>0</td>\n",
              "      <td>0</td>\n",
              "    </tr>\n",
              "  </tbody>\n",
              "</table>\n",
              "<p>5 rows × 40 columns</p>\n",
              "</div>\n",
              "    <div class=\"colab-df-buttons\">\n",
              "\n",
              "  <div class=\"colab-df-container\">\n",
              "    <button class=\"colab-df-convert\" onclick=\"convertToInteractive('df-7dab8a02-4737-46ce-9c3b-3e0210036f22')\"\n",
              "            title=\"Convert this dataframe to an interactive table.\"\n",
              "            style=\"display:none;\">\n",
              "\n",
              "  <svg xmlns=\"http://www.w3.org/2000/svg\" height=\"24px\" viewBox=\"0 -960 960 960\">\n",
              "    <path d=\"M120-120v-720h720v720H120Zm60-500h600v-160H180v160Zm220 220h160v-160H400v160Zm0 220h160v-160H400v160ZM180-400h160v-160H180v160Zm440 0h160v-160H620v160ZM180-180h160v-160H180v160Zm440 0h160v-160H620v160Z\"/>\n",
              "  </svg>\n",
              "    </button>\n",
              "\n",
              "  <style>\n",
              "    .colab-df-container {\n",
              "      display:flex;\n",
              "      gap: 12px;\n",
              "    }\n",
              "\n",
              "    .colab-df-convert {\n",
              "      background-color: #E8F0FE;\n",
              "      border: none;\n",
              "      border-radius: 50%;\n",
              "      cursor: pointer;\n",
              "      display: none;\n",
              "      fill: #1967D2;\n",
              "      height: 32px;\n",
              "      padding: 0 0 0 0;\n",
              "      width: 32px;\n",
              "    }\n",
              "\n",
              "    .colab-df-convert:hover {\n",
              "      background-color: #E2EBFA;\n",
              "      box-shadow: 0px 1px 2px rgba(60, 64, 67, 0.3), 0px 1px 3px 1px rgba(60, 64, 67, 0.15);\n",
              "      fill: #174EA6;\n",
              "    }\n",
              "\n",
              "    .colab-df-buttons div {\n",
              "      margin-bottom: 4px;\n",
              "    }\n",
              "\n",
              "    [theme=dark] .colab-df-convert {\n",
              "      background-color: #3B4455;\n",
              "      fill: #D2E3FC;\n",
              "    }\n",
              "\n",
              "    [theme=dark] .colab-df-convert:hover {\n",
              "      background-color: #434B5C;\n",
              "      box-shadow: 0px 1px 3px 1px rgba(0, 0, 0, 0.15);\n",
              "      filter: drop-shadow(0px 1px 2px rgba(0, 0, 0, 0.3));\n",
              "      fill: #FFFFFF;\n",
              "    }\n",
              "  </style>\n",
              "\n",
              "    <script>\n",
              "      const buttonEl =\n",
              "        document.querySelector('#df-7dab8a02-4737-46ce-9c3b-3e0210036f22 button.colab-df-convert');\n",
              "      buttonEl.style.display =\n",
              "        google.colab.kernel.accessAllowed ? 'block' : 'none';\n",
              "\n",
              "      async function convertToInteractive(key) {\n",
              "        const element = document.querySelector('#df-7dab8a02-4737-46ce-9c3b-3e0210036f22');\n",
              "        const dataTable =\n",
              "          await google.colab.kernel.invokeFunction('convertToInteractive',\n",
              "                                                    [key], {});\n",
              "        if (!dataTable) return;\n",
              "\n",
              "        const docLinkHtml = 'Like what you see? Visit the ' +\n",
              "          '<a target=\"_blank\" href=https://colab.research.google.com/notebooks/data_table.ipynb>data table notebook</a>'\n",
              "          + ' to learn more about interactive tables.';\n",
              "        element.innerHTML = '';\n",
              "        dataTable['output_type'] = 'display_data';\n",
              "        await google.colab.output.renderOutput(dataTable, element);\n",
              "        const docLink = document.createElement('div');\n",
              "        docLink.innerHTML = docLinkHtml;\n",
              "        element.appendChild(docLink);\n",
              "      }\n",
              "    </script>\n",
              "  </div>\n",
              "\n",
              "\n",
              "<div id=\"df-4abe61b7-d2e0-4e73-9e85-d3b09fe4d106\">\n",
              "  <button class=\"colab-df-quickchart\" onclick=\"quickchart('df-4abe61b7-d2e0-4e73-9e85-d3b09fe4d106')\"\n",
              "            title=\"Suggest charts\"\n",
              "            style=\"display:none;\">\n",
              "\n",
              "<svg xmlns=\"http://www.w3.org/2000/svg\" height=\"24px\"viewBox=\"0 0 24 24\"\n",
              "     width=\"24px\">\n",
              "    <g>\n",
              "        <path d=\"M19 3H5c-1.1 0-2 .9-2 2v14c0 1.1.9 2 2 2h14c1.1 0 2-.9 2-2V5c0-1.1-.9-2-2-2zM9 17H7v-7h2v7zm4 0h-2V7h2v10zm4 0h-2v-4h2v4z\"/>\n",
              "    </g>\n",
              "</svg>\n",
              "  </button>\n",
              "\n",
              "<style>\n",
              "  .colab-df-quickchart {\n",
              "      --bg-color: #E8F0FE;\n",
              "      --fill-color: #1967D2;\n",
              "      --hover-bg-color: #E2EBFA;\n",
              "      --hover-fill-color: #174EA6;\n",
              "      --disabled-fill-color: #AAA;\n",
              "      --disabled-bg-color: #DDD;\n",
              "  }\n",
              "\n",
              "  [theme=dark] .colab-df-quickchart {\n",
              "      --bg-color: #3B4455;\n",
              "      --fill-color: #D2E3FC;\n",
              "      --hover-bg-color: #434B5C;\n",
              "      --hover-fill-color: #FFFFFF;\n",
              "      --disabled-bg-color: #3B4455;\n",
              "      --disabled-fill-color: #666;\n",
              "  }\n",
              "\n",
              "  .colab-df-quickchart {\n",
              "    background-color: var(--bg-color);\n",
              "    border: none;\n",
              "    border-radius: 50%;\n",
              "    cursor: pointer;\n",
              "    display: none;\n",
              "    fill: var(--fill-color);\n",
              "    height: 32px;\n",
              "    padding: 0;\n",
              "    width: 32px;\n",
              "  }\n",
              "\n",
              "  .colab-df-quickchart:hover {\n",
              "    background-color: var(--hover-bg-color);\n",
              "    box-shadow: 0 1px 2px rgba(60, 64, 67, 0.3), 0 1px 3px 1px rgba(60, 64, 67, 0.15);\n",
              "    fill: var(--button-hover-fill-color);\n",
              "  }\n",
              "\n",
              "  .colab-df-quickchart-complete:disabled,\n",
              "  .colab-df-quickchart-complete:disabled:hover {\n",
              "    background-color: var(--disabled-bg-color);\n",
              "    fill: var(--disabled-fill-color);\n",
              "    box-shadow: none;\n",
              "  }\n",
              "\n",
              "  .colab-df-spinner {\n",
              "    border: 2px solid var(--fill-color);\n",
              "    border-color: transparent;\n",
              "    border-bottom-color: var(--fill-color);\n",
              "    animation:\n",
              "      spin 1s steps(1) infinite;\n",
              "  }\n",
              "\n",
              "  @keyframes spin {\n",
              "    0% {\n",
              "      border-color: transparent;\n",
              "      border-bottom-color: var(--fill-color);\n",
              "      border-left-color: var(--fill-color);\n",
              "    }\n",
              "    20% {\n",
              "      border-color: transparent;\n",
              "      border-left-color: var(--fill-color);\n",
              "      border-top-color: var(--fill-color);\n",
              "    }\n",
              "    30% {\n",
              "      border-color: transparent;\n",
              "      border-left-color: var(--fill-color);\n",
              "      border-top-color: var(--fill-color);\n",
              "      border-right-color: var(--fill-color);\n",
              "    }\n",
              "    40% {\n",
              "      border-color: transparent;\n",
              "      border-right-color: var(--fill-color);\n",
              "      border-top-color: var(--fill-color);\n",
              "    }\n",
              "    60% {\n",
              "      border-color: transparent;\n",
              "      border-right-color: var(--fill-color);\n",
              "    }\n",
              "    80% {\n",
              "      border-color: transparent;\n",
              "      border-right-color: var(--fill-color);\n",
              "      border-bottom-color: var(--fill-color);\n",
              "    }\n",
              "    90% {\n",
              "      border-color: transparent;\n",
              "      border-bottom-color: var(--fill-color);\n",
              "    }\n",
              "  }\n",
              "</style>\n",
              "\n",
              "  <script>\n",
              "    async function quickchart(key) {\n",
              "      const quickchartButtonEl =\n",
              "        document.querySelector('#' + key + ' button');\n",
              "      quickchartButtonEl.disabled = true;  // To prevent multiple clicks.\n",
              "      quickchartButtonEl.classList.add('colab-df-spinner');\n",
              "      try {\n",
              "        const charts = await google.colab.kernel.invokeFunction(\n",
              "            'suggestCharts', [key], {});\n",
              "      } catch (error) {\n",
              "        console.error('Error during call to suggestCharts:', error);\n",
              "      }\n",
              "      quickchartButtonEl.classList.remove('colab-df-spinner');\n",
              "      quickchartButtonEl.classList.add('colab-df-quickchart-complete');\n",
              "    }\n",
              "    (() => {\n",
              "      let quickchartButtonEl =\n",
              "        document.querySelector('#df-4abe61b7-d2e0-4e73-9e85-d3b09fe4d106 button');\n",
              "      quickchartButtonEl.style.display =\n",
              "        google.colab.kernel.accessAllowed ? 'block' : 'none';\n",
              "    })();\n",
              "  </script>\n",
              "</div>\n",
              "\n",
              "    </div>\n",
              "  </div>\n"
            ],
            "application/vnd.google.colaboratory.intrinsic+json": {
              "type": "dataframe",
              "variable_name": "df_encoded"
            }
          },
          "metadata": {},
          "execution_count": 63
        }
      ]
    },
    {
      "cell_type": "code",
      "source": [
        "corr_matrix = df_encoded.corr()\n",
        "had_heart_attack_corr = corr_matrix['HadHeartAttack']\n",
        "had_heart_attack_corr_sorted = had_heart_attack_corr.sort_values()\n",
        "print(had_heart_attack_corr_sorted)\n"
      ],
      "metadata": {
        "colab": {
          "base_uri": "https://localhost:8080/",
          "height": 0
        },
        "id": "DzUZzCPfso8V",
        "outputId": "7e72f837-61d0-4d07-8592-5dd234dfb507"
      },
      "execution_count": 64,
      "outputs": [
        {
          "output_type": "stream",
          "name": "stdout",
          "text": [
            "PhysicalActivities          -0.083187\n",
            "SmokerStatus                -0.077336\n",
            "AlcoholDrinkers             -0.074181\n",
            "RemovedTeeth                -0.073717\n",
            "GeneralHealth               -0.021596\n",
            "HighRiskLastYear            -0.021127\n",
            "CovidPos                    -0.020962\n",
            "ECigaretteUsage             -0.015477\n",
            "HIVTesting                  -0.014563\n",
            "State                       -0.002088\n",
            "SleepHours                   0.003631\n",
            "TetanusLast10Tdap            0.010010\n",
            "HeightInMeters               0.023059\n",
            "HadDepressiveDisorder        0.023706\n",
            "HadAsthma                    0.023756\n",
            "RaceEthnicityCategory        0.024201\n",
            "MentalHealthDays             0.025892\n",
            "BMI                          0.030413\n",
            "WeightInKilograms            0.038436\n",
            "FluVaxLast12                 0.045235\n",
            "HadSkinCancer                0.049408\n",
            "DifficultyConcentrating      0.051663\n",
            "LastCheckupTime              0.065848\n",
            "BlindOrVisionDifficulty      0.072964\n",
            "Sex                          0.073316\n",
            "DifficultyDressingBathing    0.083090\n",
            "DifficultyErrands            0.089495\n",
            "DeafOrHardOfHearing          0.097662\n",
            "HadKidneyDisease             0.109355\n",
            "HadArthritis                 0.117773\n",
            "PneumoVaxEver                0.119955\n",
            "HadCOPD                      0.133223\n",
            "PhysicalHealthDays           0.133420\n",
            "HadDiabetes                  0.135099\n",
            "DifficultyWalking            0.159878\n",
            "ChestScan                    0.167760\n",
            "AgeCategory                  0.172172\n",
            "HadStroke                    0.177137\n",
            "HadAngina                    0.445903\n",
            "HadHeartAttack               1.000000\n",
            "Name: HadHeartAttack, dtype: float64\n"
          ]
        }
      ]
    },
    {
      "cell_type": "markdown",
      "source": [
        "We Will take all the variable that has the coefficients larger than 0.05% or less than 0.05% which include: <br>\n",
        "PhysicalActivities: -0.083187<br>\n",
        "SmokerStatus: -0.077336<br>\n",
        "AlcoholDrinkers: -0.074181<br>\n",
        "RemovedTeeth: -0.073717<br>\n",
        "DifficultyConcentrating: 0.051663<br>\n",
        "LastCheckupTime: 0.065848<br>\n",
        "BlindOrVisionDifficulty: 0.072964<br>\n",
        "Sex: 0.073316<br>\n",
        "DifficultyDressingBathing: 0.083090<br>\n",
        "DifficultyErrands: 0.089495<br>\n",
        "DeafOrHardOfHearing: 0.097662<br>\n",
        "HadKidneyDisease: 0.109355<br>\n",
        "HadArthritis: 0.117773<br>\n",
        "PneumoVaxEver: 0.119955<br>\n",
        "HadCOPD: 0.133223<br>\n",
        "PhysicalHealthDays: 0.133420<br>\n",
        "HadDiabetes: 0.135099<br>\n",
        "DifficultyWalking: 0.159878<br>\n",
        "ChestScan: 0.167760<br>\n",
        "AgeCategory: 0.172172<br>\n",
        "HadStroke: 0.177137<br>\n",
        "HadAngina: 0.445903<br>\n",
        "HadHeartAttack: 1.000000<br>\n",
        "Total number of lines: 23"
      ],
      "metadata": {
        "id": "_X7RI6ektWwq"
      }
    },
    {
      "cell_type": "code",
      "source": [
        "df = df[['PhysicalActivities', 'SmokerStatus', 'AlcoholDrinkers', 'RemovedTeeth',\n",
        "         'DifficultyConcentrating', 'LastCheckupTime', 'BlindOrVisionDifficulty', 'Sex',\n",
        "         'DifficultyDressingBathing', 'DifficultyErrands', 'DeafOrHardOfHearing',\n",
        "         'HadKidneyDisease', 'HadArthritis', 'PneumoVaxEver', 'HadCOPD',\n",
        "         'HadDiabetes', 'DifficultyWalking', 'ChestScan',\n",
        "         'AgeCategory', 'HadStroke', 'HadAngina', 'HadHeartAttack', 'GeneralHealth','PhysicalHealthDays', 'MentalHealthDays', 'SleepHours', 'WeightInKilograms', 'BMI']]\n",
        "df.head()"
      ],
      "metadata": {
        "colab": {
          "base_uri": "https://localhost:8080/",
          "height": 429
        },
        "id": "w5gPUfNuNov8",
        "outputId": "5fb3c1c4-1a88-456b-9065-f8efaf7108fd"
      },
      "execution_count": 65,
      "outputs": [
        {
          "output_type": "execute_result",
          "data": {
            "text/plain": [
              "  PhysicalActivities   SmokerStatus AlcoholDrinkers            RemovedTeeth  \\\n",
              "0                Yes  Former smoker              No            None of them   \n",
              "1                Yes  Former smoker              No            None of them   \n",
              "2                 No  Former smoker             Yes  6 or more, but not all   \n",
              "3                Yes   Never smoked              No            None of them   \n",
              "4                Yes   Never smoked              No                  1 to 5   \n",
              "\n",
              "  DifficultyConcentrating                                    LastCheckupTime  \\\n",
              "0                      No  Within past year (anytime less than 12 months ...   \n",
              "1                      No  Within past year (anytime less than 12 months ...   \n",
              "2                      No  Within past year (anytime less than 12 months ...   \n",
              "3                      No  Within past year (anytime less than 12 months ...   \n",
              "4                      No  Within past year (anytime less than 12 months ...   \n",
              "\n",
              "  BlindOrVisionDifficulty     Sex DifficultyDressingBathing DifficultyErrands  \\\n",
              "0                      No  Female                        No                No   \n",
              "1                      No    Male                        No                No   \n",
              "2                     Yes    Male                        No                No   \n",
              "3                      No  Female                        No                No   \n",
              "4                      No  Female                        No                No   \n",
              "\n",
              "   ...      AgeCategory HadStroke HadAngina HadHeartAttack GeneralHealth  \\\n",
              "0  ...     Age 65 to 69        No        No             No     Very good   \n",
              "1  ...     Age 70 to 74        No        No             No     Very good   \n",
              "2  ...     Age 75 to 79        No        No             No     Very good   \n",
              "3  ...  Age 80 or older        No        No             No          Fair   \n",
              "4  ...  Age 80 or older        No        No             No          Good   \n",
              "\n",
              "  PhysicalHealthDays MentalHealthDays SleepHours WeightInKilograms    BMI  \n",
              "0                4.0              0.0        9.0             71.67  27.99  \n",
              "1                0.0              0.0        6.0             95.25  30.13  \n",
              "2                0.0              0.0        8.0            108.86  31.66  \n",
              "3                5.0              0.0        9.0             90.72  31.32  \n",
              "4                3.0             15.0        5.0             79.38  33.07  \n",
              "\n",
              "[5 rows x 28 columns]"
            ],
            "text/html": [
              "\n",
              "  <div id=\"df-95e53f53-b202-4408-b84f-8bc0d4fecf39\" class=\"colab-df-container\">\n",
              "    <div>\n",
              "<style scoped>\n",
              "    .dataframe tbody tr th:only-of-type {\n",
              "        vertical-align: middle;\n",
              "    }\n",
              "\n",
              "    .dataframe tbody tr th {\n",
              "        vertical-align: top;\n",
              "    }\n",
              "\n",
              "    .dataframe thead th {\n",
              "        text-align: right;\n",
              "    }\n",
              "</style>\n",
              "<table border=\"1\" class=\"dataframe\">\n",
              "  <thead>\n",
              "    <tr style=\"text-align: right;\">\n",
              "      <th></th>\n",
              "      <th>PhysicalActivities</th>\n",
              "      <th>SmokerStatus</th>\n",
              "      <th>AlcoholDrinkers</th>\n",
              "      <th>RemovedTeeth</th>\n",
              "      <th>DifficultyConcentrating</th>\n",
              "      <th>LastCheckupTime</th>\n",
              "      <th>BlindOrVisionDifficulty</th>\n",
              "      <th>Sex</th>\n",
              "      <th>DifficultyDressingBathing</th>\n",
              "      <th>DifficultyErrands</th>\n",
              "      <th>...</th>\n",
              "      <th>AgeCategory</th>\n",
              "      <th>HadStroke</th>\n",
              "      <th>HadAngina</th>\n",
              "      <th>HadHeartAttack</th>\n",
              "      <th>GeneralHealth</th>\n",
              "      <th>PhysicalHealthDays</th>\n",
              "      <th>MentalHealthDays</th>\n",
              "      <th>SleepHours</th>\n",
              "      <th>WeightInKilograms</th>\n",
              "      <th>BMI</th>\n",
              "    </tr>\n",
              "  </thead>\n",
              "  <tbody>\n",
              "    <tr>\n",
              "      <th>0</th>\n",
              "      <td>Yes</td>\n",
              "      <td>Former smoker</td>\n",
              "      <td>No</td>\n",
              "      <td>None of them</td>\n",
              "      <td>No</td>\n",
              "      <td>Within past year (anytime less than 12 months ...</td>\n",
              "      <td>No</td>\n",
              "      <td>Female</td>\n",
              "      <td>No</td>\n",
              "      <td>No</td>\n",
              "      <td>...</td>\n",
              "      <td>Age 65 to 69</td>\n",
              "      <td>No</td>\n",
              "      <td>No</td>\n",
              "      <td>No</td>\n",
              "      <td>Very good</td>\n",
              "      <td>4.0</td>\n",
              "      <td>0.0</td>\n",
              "      <td>9.0</td>\n",
              "      <td>71.67</td>\n",
              "      <td>27.99</td>\n",
              "    </tr>\n",
              "    <tr>\n",
              "      <th>1</th>\n",
              "      <td>Yes</td>\n",
              "      <td>Former smoker</td>\n",
              "      <td>No</td>\n",
              "      <td>None of them</td>\n",
              "      <td>No</td>\n",
              "      <td>Within past year (anytime less than 12 months ...</td>\n",
              "      <td>No</td>\n",
              "      <td>Male</td>\n",
              "      <td>No</td>\n",
              "      <td>No</td>\n",
              "      <td>...</td>\n",
              "      <td>Age 70 to 74</td>\n",
              "      <td>No</td>\n",
              "      <td>No</td>\n",
              "      <td>No</td>\n",
              "      <td>Very good</td>\n",
              "      <td>0.0</td>\n",
              "      <td>0.0</td>\n",
              "      <td>6.0</td>\n",
              "      <td>95.25</td>\n",
              "      <td>30.13</td>\n",
              "    </tr>\n",
              "    <tr>\n",
              "      <th>2</th>\n",
              "      <td>No</td>\n",
              "      <td>Former smoker</td>\n",
              "      <td>Yes</td>\n",
              "      <td>6 or more, but not all</td>\n",
              "      <td>No</td>\n",
              "      <td>Within past year (anytime less than 12 months ...</td>\n",
              "      <td>Yes</td>\n",
              "      <td>Male</td>\n",
              "      <td>No</td>\n",
              "      <td>No</td>\n",
              "      <td>...</td>\n",
              "      <td>Age 75 to 79</td>\n",
              "      <td>No</td>\n",
              "      <td>No</td>\n",
              "      <td>No</td>\n",
              "      <td>Very good</td>\n",
              "      <td>0.0</td>\n",
              "      <td>0.0</td>\n",
              "      <td>8.0</td>\n",
              "      <td>108.86</td>\n",
              "      <td>31.66</td>\n",
              "    </tr>\n",
              "    <tr>\n",
              "      <th>3</th>\n",
              "      <td>Yes</td>\n",
              "      <td>Never smoked</td>\n",
              "      <td>No</td>\n",
              "      <td>None of them</td>\n",
              "      <td>No</td>\n",
              "      <td>Within past year (anytime less than 12 months ...</td>\n",
              "      <td>No</td>\n",
              "      <td>Female</td>\n",
              "      <td>No</td>\n",
              "      <td>No</td>\n",
              "      <td>...</td>\n",
              "      <td>Age 80 or older</td>\n",
              "      <td>No</td>\n",
              "      <td>No</td>\n",
              "      <td>No</td>\n",
              "      <td>Fair</td>\n",
              "      <td>5.0</td>\n",
              "      <td>0.0</td>\n",
              "      <td>9.0</td>\n",
              "      <td>90.72</td>\n",
              "      <td>31.32</td>\n",
              "    </tr>\n",
              "    <tr>\n",
              "      <th>4</th>\n",
              "      <td>Yes</td>\n",
              "      <td>Never smoked</td>\n",
              "      <td>No</td>\n",
              "      <td>1 to 5</td>\n",
              "      <td>No</td>\n",
              "      <td>Within past year (anytime less than 12 months ...</td>\n",
              "      <td>No</td>\n",
              "      <td>Female</td>\n",
              "      <td>No</td>\n",
              "      <td>No</td>\n",
              "      <td>...</td>\n",
              "      <td>Age 80 or older</td>\n",
              "      <td>No</td>\n",
              "      <td>No</td>\n",
              "      <td>No</td>\n",
              "      <td>Good</td>\n",
              "      <td>3.0</td>\n",
              "      <td>15.0</td>\n",
              "      <td>5.0</td>\n",
              "      <td>79.38</td>\n",
              "      <td>33.07</td>\n",
              "    </tr>\n",
              "  </tbody>\n",
              "</table>\n",
              "<p>5 rows × 28 columns</p>\n",
              "</div>\n",
              "    <div class=\"colab-df-buttons\">\n",
              "\n",
              "  <div class=\"colab-df-container\">\n",
              "    <button class=\"colab-df-convert\" onclick=\"convertToInteractive('df-95e53f53-b202-4408-b84f-8bc0d4fecf39')\"\n",
              "            title=\"Convert this dataframe to an interactive table.\"\n",
              "            style=\"display:none;\">\n",
              "\n",
              "  <svg xmlns=\"http://www.w3.org/2000/svg\" height=\"24px\" viewBox=\"0 -960 960 960\">\n",
              "    <path d=\"M120-120v-720h720v720H120Zm60-500h600v-160H180v160Zm220 220h160v-160H400v160Zm0 220h160v-160H400v160ZM180-400h160v-160H180v160Zm440 0h160v-160H620v160ZM180-180h160v-160H180v160Zm440 0h160v-160H620v160Z\"/>\n",
              "  </svg>\n",
              "    </button>\n",
              "\n",
              "  <style>\n",
              "    .colab-df-container {\n",
              "      display:flex;\n",
              "      gap: 12px;\n",
              "    }\n",
              "\n",
              "    .colab-df-convert {\n",
              "      background-color: #E8F0FE;\n",
              "      border: none;\n",
              "      border-radius: 50%;\n",
              "      cursor: pointer;\n",
              "      display: none;\n",
              "      fill: #1967D2;\n",
              "      height: 32px;\n",
              "      padding: 0 0 0 0;\n",
              "      width: 32px;\n",
              "    }\n",
              "\n",
              "    .colab-df-convert:hover {\n",
              "      background-color: #E2EBFA;\n",
              "      box-shadow: 0px 1px 2px rgba(60, 64, 67, 0.3), 0px 1px 3px 1px rgba(60, 64, 67, 0.15);\n",
              "      fill: #174EA6;\n",
              "    }\n",
              "\n",
              "    .colab-df-buttons div {\n",
              "      margin-bottom: 4px;\n",
              "    }\n",
              "\n",
              "    [theme=dark] .colab-df-convert {\n",
              "      background-color: #3B4455;\n",
              "      fill: #D2E3FC;\n",
              "    }\n",
              "\n",
              "    [theme=dark] .colab-df-convert:hover {\n",
              "      background-color: #434B5C;\n",
              "      box-shadow: 0px 1px 3px 1px rgba(0, 0, 0, 0.15);\n",
              "      filter: drop-shadow(0px 1px 2px rgba(0, 0, 0, 0.3));\n",
              "      fill: #FFFFFF;\n",
              "    }\n",
              "  </style>\n",
              "\n",
              "    <script>\n",
              "      const buttonEl =\n",
              "        document.querySelector('#df-95e53f53-b202-4408-b84f-8bc0d4fecf39 button.colab-df-convert');\n",
              "      buttonEl.style.display =\n",
              "        google.colab.kernel.accessAllowed ? 'block' : 'none';\n",
              "\n",
              "      async function convertToInteractive(key) {\n",
              "        const element = document.querySelector('#df-95e53f53-b202-4408-b84f-8bc0d4fecf39');\n",
              "        const dataTable =\n",
              "          await google.colab.kernel.invokeFunction('convertToInteractive',\n",
              "                                                    [key], {});\n",
              "        if (!dataTable) return;\n",
              "\n",
              "        const docLinkHtml = 'Like what you see? Visit the ' +\n",
              "          '<a target=\"_blank\" href=https://colab.research.google.com/notebooks/data_table.ipynb>data table notebook</a>'\n",
              "          + ' to learn more about interactive tables.';\n",
              "        element.innerHTML = '';\n",
              "        dataTable['output_type'] = 'display_data';\n",
              "        await google.colab.output.renderOutput(dataTable, element);\n",
              "        const docLink = document.createElement('div');\n",
              "        docLink.innerHTML = docLinkHtml;\n",
              "        element.appendChild(docLink);\n",
              "      }\n",
              "    </script>\n",
              "  </div>\n",
              "\n",
              "\n",
              "<div id=\"df-63cc6887-6e92-4cd0-bdb1-2d59ca6d9e6b\">\n",
              "  <button class=\"colab-df-quickchart\" onclick=\"quickchart('df-63cc6887-6e92-4cd0-bdb1-2d59ca6d9e6b')\"\n",
              "            title=\"Suggest charts\"\n",
              "            style=\"display:none;\">\n",
              "\n",
              "<svg xmlns=\"http://www.w3.org/2000/svg\" height=\"24px\"viewBox=\"0 0 24 24\"\n",
              "     width=\"24px\">\n",
              "    <g>\n",
              "        <path d=\"M19 3H5c-1.1 0-2 .9-2 2v14c0 1.1.9 2 2 2h14c1.1 0 2-.9 2-2V5c0-1.1-.9-2-2-2zM9 17H7v-7h2v7zm4 0h-2V7h2v10zm4 0h-2v-4h2v4z\"/>\n",
              "    </g>\n",
              "</svg>\n",
              "  </button>\n",
              "\n",
              "<style>\n",
              "  .colab-df-quickchart {\n",
              "      --bg-color: #E8F0FE;\n",
              "      --fill-color: #1967D2;\n",
              "      --hover-bg-color: #E2EBFA;\n",
              "      --hover-fill-color: #174EA6;\n",
              "      --disabled-fill-color: #AAA;\n",
              "      --disabled-bg-color: #DDD;\n",
              "  }\n",
              "\n",
              "  [theme=dark] .colab-df-quickchart {\n",
              "      --bg-color: #3B4455;\n",
              "      --fill-color: #D2E3FC;\n",
              "      --hover-bg-color: #434B5C;\n",
              "      --hover-fill-color: #FFFFFF;\n",
              "      --disabled-bg-color: #3B4455;\n",
              "      --disabled-fill-color: #666;\n",
              "  }\n",
              "\n",
              "  .colab-df-quickchart {\n",
              "    background-color: var(--bg-color);\n",
              "    border: none;\n",
              "    border-radius: 50%;\n",
              "    cursor: pointer;\n",
              "    display: none;\n",
              "    fill: var(--fill-color);\n",
              "    height: 32px;\n",
              "    padding: 0;\n",
              "    width: 32px;\n",
              "  }\n",
              "\n",
              "  .colab-df-quickchart:hover {\n",
              "    background-color: var(--hover-bg-color);\n",
              "    box-shadow: 0 1px 2px rgba(60, 64, 67, 0.3), 0 1px 3px 1px rgba(60, 64, 67, 0.15);\n",
              "    fill: var(--button-hover-fill-color);\n",
              "  }\n",
              "\n",
              "  .colab-df-quickchart-complete:disabled,\n",
              "  .colab-df-quickchart-complete:disabled:hover {\n",
              "    background-color: var(--disabled-bg-color);\n",
              "    fill: var(--disabled-fill-color);\n",
              "    box-shadow: none;\n",
              "  }\n",
              "\n",
              "  .colab-df-spinner {\n",
              "    border: 2px solid var(--fill-color);\n",
              "    border-color: transparent;\n",
              "    border-bottom-color: var(--fill-color);\n",
              "    animation:\n",
              "      spin 1s steps(1) infinite;\n",
              "  }\n",
              "\n",
              "  @keyframes spin {\n",
              "    0% {\n",
              "      border-color: transparent;\n",
              "      border-bottom-color: var(--fill-color);\n",
              "      border-left-color: var(--fill-color);\n",
              "    }\n",
              "    20% {\n",
              "      border-color: transparent;\n",
              "      border-left-color: var(--fill-color);\n",
              "      border-top-color: var(--fill-color);\n",
              "    }\n",
              "    30% {\n",
              "      border-color: transparent;\n",
              "      border-left-color: var(--fill-color);\n",
              "      border-top-color: var(--fill-color);\n",
              "      border-right-color: var(--fill-color);\n",
              "    }\n",
              "    40% {\n",
              "      border-color: transparent;\n",
              "      border-right-color: var(--fill-color);\n",
              "      border-top-color: var(--fill-color);\n",
              "    }\n",
              "    60% {\n",
              "      border-color: transparent;\n",
              "      border-right-color: var(--fill-color);\n",
              "    }\n",
              "    80% {\n",
              "      border-color: transparent;\n",
              "      border-right-color: var(--fill-color);\n",
              "      border-bottom-color: var(--fill-color);\n",
              "    }\n",
              "    90% {\n",
              "      border-color: transparent;\n",
              "      border-bottom-color: var(--fill-color);\n",
              "    }\n",
              "  }\n",
              "</style>\n",
              "\n",
              "  <script>\n",
              "    async function quickchart(key) {\n",
              "      const quickchartButtonEl =\n",
              "        document.querySelector('#' + key + ' button');\n",
              "      quickchartButtonEl.disabled = true;  // To prevent multiple clicks.\n",
              "      quickchartButtonEl.classList.add('colab-df-spinner');\n",
              "      try {\n",
              "        const charts = await google.colab.kernel.invokeFunction(\n",
              "            'suggestCharts', [key], {});\n",
              "      } catch (error) {\n",
              "        console.error('Error during call to suggestCharts:', error);\n",
              "      }\n",
              "      quickchartButtonEl.classList.remove('colab-df-spinner');\n",
              "      quickchartButtonEl.classList.add('colab-df-quickchart-complete');\n",
              "    }\n",
              "    (() => {\n",
              "      let quickchartButtonEl =\n",
              "        document.querySelector('#df-63cc6887-6e92-4cd0-bdb1-2d59ca6d9e6b button');\n",
              "      quickchartButtonEl.style.display =\n",
              "        google.colab.kernel.accessAllowed ? 'block' : 'none';\n",
              "    })();\n",
              "  </script>\n",
              "</div>\n",
              "\n",
              "    </div>\n",
              "  </div>\n"
            ],
            "application/vnd.google.colaboratory.intrinsic+json": {
              "type": "dataframe",
              "variable_name": "df"
            }
          },
          "metadata": {},
          "execution_count": 65
        }
      ]
    },
    {
      "cell_type": "code",
      "source": [
        "from sklearn.preprocessing import StandardScaler\n",
        "numerical_cols = df.select_dtypes(include=['float64', 'int64']).columns\n",
        "scaler = StandardScaler()\n",
        "df[numerical_cols] = scaler.fit_transform(df[numerical_cols])\n"
      ],
      "metadata": {
        "id": "HOWvH0p5aEF7"
      },
      "execution_count": 66,
      "outputs": []
    },
    {
      "cell_type": "code",
      "source": [
        "df.head()"
      ],
      "metadata": {
        "colab": {
          "base_uri": "https://localhost:8080/",
          "height": 429
        },
        "id": "RQUheyvD-9nX",
        "outputId": "b1eee1ae-51ef-49c1-cc28-a1c4c8fbbdcc"
      },
      "execution_count": 67,
      "outputs": [
        {
          "output_type": "execute_result",
          "data": {
            "text/plain": [
              "  PhysicalActivities   SmokerStatus AlcoholDrinkers            RemovedTeeth  \\\n",
              "0                Yes  Former smoker              No            None of them   \n",
              "1                Yes  Former smoker              No            None of them   \n",
              "2                 No  Former smoker             Yes  6 or more, but not all   \n",
              "3                Yes   Never smoked              No            None of them   \n",
              "4                Yes   Never smoked              No                  1 to 5   \n",
              "\n",
              "  DifficultyConcentrating                                    LastCheckupTime  \\\n",
              "0                      No  Within past year (anytime less than 12 months ...   \n",
              "1                      No  Within past year (anytime less than 12 months ...   \n",
              "2                      No  Within past year (anytime less than 12 months ...   \n",
              "3                      No  Within past year (anytime less than 12 months ...   \n",
              "4                      No  Within past year (anytime less than 12 months ...   \n",
              "\n",
              "  BlindOrVisionDifficulty     Sex DifficultyDressingBathing DifficultyErrands  \\\n",
              "0                      No  Female                        No                No   \n",
              "1                      No    Male                        No                No   \n",
              "2                     Yes    Male                        No                No   \n",
              "3                      No  Female                        No                No   \n",
              "4                      No  Female                        No                No   \n",
              "\n",
              "   ...      AgeCategory HadStroke HadAngina HadHeartAttack GeneralHealth  \\\n",
              "0  ...     Age 65 to 69        No        No             No     Very good   \n",
              "1  ...     Age 70 to 74        No        No             No     Very good   \n",
              "2  ...     Age 75 to 79        No        No             No     Very good   \n",
              "3  ...  Age 80 or older        No        No             No          Fair   \n",
              "4  ...  Age 80 or older        No        No             No          Good   \n",
              "\n",
              "  PhysicalHealthDays MentalHealthDays SleepHours WeightInKilograms       BMI  \n",
              "0          -0.014160        -0.514292   1.373428         -0.560199 -0.104105  \n",
              "1          -0.490020        -0.514292  -0.708924          0.545644  0.224420  \n",
              "2          -0.490020        -0.514292   0.679311          1.183918  0.459300  \n",
              "3           0.104805        -0.514292   1.373428          0.333198  0.407105  \n",
              "4          -0.133125         1.336949  -1.403041         -0.198619  0.675759  \n",
              "\n",
              "[5 rows x 28 columns]"
            ],
            "text/html": [
              "\n",
              "  <div id=\"df-67c1518d-17de-42d6-88dd-6f09781ff105\" class=\"colab-df-container\">\n",
              "    <div>\n",
              "<style scoped>\n",
              "    .dataframe tbody tr th:only-of-type {\n",
              "        vertical-align: middle;\n",
              "    }\n",
              "\n",
              "    .dataframe tbody tr th {\n",
              "        vertical-align: top;\n",
              "    }\n",
              "\n",
              "    .dataframe thead th {\n",
              "        text-align: right;\n",
              "    }\n",
              "</style>\n",
              "<table border=\"1\" class=\"dataframe\">\n",
              "  <thead>\n",
              "    <tr style=\"text-align: right;\">\n",
              "      <th></th>\n",
              "      <th>PhysicalActivities</th>\n",
              "      <th>SmokerStatus</th>\n",
              "      <th>AlcoholDrinkers</th>\n",
              "      <th>RemovedTeeth</th>\n",
              "      <th>DifficultyConcentrating</th>\n",
              "      <th>LastCheckupTime</th>\n",
              "      <th>BlindOrVisionDifficulty</th>\n",
              "      <th>Sex</th>\n",
              "      <th>DifficultyDressingBathing</th>\n",
              "      <th>DifficultyErrands</th>\n",
              "      <th>...</th>\n",
              "      <th>AgeCategory</th>\n",
              "      <th>HadStroke</th>\n",
              "      <th>HadAngina</th>\n",
              "      <th>HadHeartAttack</th>\n",
              "      <th>GeneralHealth</th>\n",
              "      <th>PhysicalHealthDays</th>\n",
              "      <th>MentalHealthDays</th>\n",
              "      <th>SleepHours</th>\n",
              "      <th>WeightInKilograms</th>\n",
              "      <th>BMI</th>\n",
              "    </tr>\n",
              "  </thead>\n",
              "  <tbody>\n",
              "    <tr>\n",
              "      <th>0</th>\n",
              "      <td>Yes</td>\n",
              "      <td>Former smoker</td>\n",
              "      <td>No</td>\n",
              "      <td>None of them</td>\n",
              "      <td>No</td>\n",
              "      <td>Within past year (anytime less than 12 months ...</td>\n",
              "      <td>No</td>\n",
              "      <td>Female</td>\n",
              "      <td>No</td>\n",
              "      <td>No</td>\n",
              "      <td>...</td>\n",
              "      <td>Age 65 to 69</td>\n",
              "      <td>No</td>\n",
              "      <td>No</td>\n",
              "      <td>No</td>\n",
              "      <td>Very good</td>\n",
              "      <td>-0.014160</td>\n",
              "      <td>-0.514292</td>\n",
              "      <td>1.373428</td>\n",
              "      <td>-0.560199</td>\n",
              "      <td>-0.104105</td>\n",
              "    </tr>\n",
              "    <tr>\n",
              "      <th>1</th>\n",
              "      <td>Yes</td>\n",
              "      <td>Former smoker</td>\n",
              "      <td>No</td>\n",
              "      <td>None of them</td>\n",
              "      <td>No</td>\n",
              "      <td>Within past year (anytime less than 12 months ...</td>\n",
              "      <td>No</td>\n",
              "      <td>Male</td>\n",
              "      <td>No</td>\n",
              "      <td>No</td>\n",
              "      <td>...</td>\n",
              "      <td>Age 70 to 74</td>\n",
              "      <td>No</td>\n",
              "      <td>No</td>\n",
              "      <td>No</td>\n",
              "      <td>Very good</td>\n",
              "      <td>-0.490020</td>\n",
              "      <td>-0.514292</td>\n",
              "      <td>-0.708924</td>\n",
              "      <td>0.545644</td>\n",
              "      <td>0.224420</td>\n",
              "    </tr>\n",
              "    <tr>\n",
              "      <th>2</th>\n",
              "      <td>No</td>\n",
              "      <td>Former smoker</td>\n",
              "      <td>Yes</td>\n",
              "      <td>6 or more, but not all</td>\n",
              "      <td>No</td>\n",
              "      <td>Within past year (anytime less than 12 months ...</td>\n",
              "      <td>Yes</td>\n",
              "      <td>Male</td>\n",
              "      <td>No</td>\n",
              "      <td>No</td>\n",
              "      <td>...</td>\n",
              "      <td>Age 75 to 79</td>\n",
              "      <td>No</td>\n",
              "      <td>No</td>\n",
              "      <td>No</td>\n",
              "      <td>Very good</td>\n",
              "      <td>-0.490020</td>\n",
              "      <td>-0.514292</td>\n",
              "      <td>0.679311</td>\n",
              "      <td>1.183918</td>\n",
              "      <td>0.459300</td>\n",
              "    </tr>\n",
              "    <tr>\n",
              "      <th>3</th>\n",
              "      <td>Yes</td>\n",
              "      <td>Never smoked</td>\n",
              "      <td>No</td>\n",
              "      <td>None of them</td>\n",
              "      <td>No</td>\n",
              "      <td>Within past year (anytime less than 12 months ...</td>\n",
              "      <td>No</td>\n",
              "      <td>Female</td>\n",
              "      <td>No</td>\n",
              "      <td>No</td>\n",
              "      <td>...</td>\n",
              "      <td>Age 80 or older</td>\n",
              "      <td>No</td>\n",
              "      <td>No</td>\n",
              "      <td>No</td>\n",
              "      <td>Fair</td>\n",
              "      <td>0.104805</td>\n",
              "      <td>-0.514292</td>\n",
              "      <td>1.373428</td>\n",
              "      <td>0.333198</td>\n",
              "      <td>0.407105</td>\n",
              "    </tr>\n",
              "    <tr>\n",
              "      <th>4</th>\n",
              "      <td>Yes</td>\n",
              "      <td>Never smoked</td>\n",
              "      <td>No</td>\n",
              "      <td>1 to 5</td>\n",
              "      <td>No</td>\n",
              "      <td>Within past year (anytime less than 12 months ...</td>\n",
              "      <td>No</td>\n",
              "      <td>Female</td>\n",
              "      <td>No</td>\n",
              "      <td>No</td>\n",
              "      <td>...</td>\n",
              "      <td>Age 80 or older</td>\n",
              "      <td>No</td>\n",
              "      <td>No</td>\n",
              "      <td>No</td>\n",
              "      <td>Good</td>\n",
              "      <td>-0.133125</td>\n",
              "      <td>1.336949</td>\n",
              "      <td>-1.403041</td>\n",
              "      <td>-0.198619</td>\n",
              "      <td>0.675759</td>\n",
              "    </tr>\n",
              "  </tbody>\n",
              "</table>\n",
              "<p>5 rows × 28 columns</p>\n",
              "</div>\n",
              "    <div class=\"colab-df-buttons\">\n",
              "\n",
              "  <div class=\"colab-df-container\">\n",
              "    <button class=\"colab-df-convert\" onclick=\"convertToInteractive('df-67c1518d-17de-42d6-88dd-6f09781ff105')\"\n",
              "            title=\"Convert this dataframe to an interactive table.\"\n",
              "            style=\"display:none;\">\n",
              "\n",
              "  <svg xmlns=\"http://www.w3.org/2000/svg\" height=\"24px\" viewBox=\"0 -960 960 960\">\n",
              "    <path d=\"M120-120v-720h720v720H120Zm60-500h600v-160H180v160Zm220 220h160v-160H400v160Zm0 220h160v-160H400v160ZM180-400h160v-160H180v160Zm440 0h160v-160H620v160ZM180-180h160v-160H180v160Zm440 0h160v-160H620v160Z\"/>\n",
              "  </svg>\n",
              "    </button>\n",
              "\n",
              "  <style>\n",
              "    .colab-df-container {\n",
              "      display:flex;\n",
              "      gap: 12px;\n",
              "    }\n",
              "\n",
              "    .colab-df-convert {\n",
              "      background-color: #E8F0FE;\n",
              "      border: none;\n",
              "      border-radius: 50%;\n",
              "      cursor: pointer;\n",
              "      display: none;\n",
              "      fill: #1967D2;\n",
              "      height: 32px;\n",
              "      padding: 0 0 0 0;\n",
              "      width: 32px;\n",
              "    }\n",
              "\n",
              "    .colab-df-convert:hover {\n",
              "      background-color: #E2EBFA;\n",
              "      box-shadow: 0px 1px 2px rgba(60, 64, 67, 0.3), 0px 1px 3px 1px rgba(60, 64, 67, 0.15);\n",
              "      fill: #174EA6;\n",
              "    }\n",
              "\n",
              "    .colab-df-buttons div {\n",
              "      margin-bottom: 4px;\n",
              "    }\n",
              "\n",
              "    [theme=dark] .colab-df-convert {\n",
              "      background-color: #3B4455;\n",
              "      fill: #D2E3FC;\n",
              "    }\n",
              "\n",
              "    [theme=dark] .colab-df-convert:hover {\n",
              "      background-color: #434B5C;\n",
              "      box-shadow: 0px 1px 3px 1px rgba(0, 0, 0, 0.15);\n",
              "      filter: drop-shadow(0px 1px 2px rgba(0, 0, 0, 0.3));\n",
              "      fill: #FFFFFF;\n",
              "    }\n",
              "  </style>\n",
              "\n",
              "    <script>\n",
              "      const buttonEl =\n",
              "        document.querySelector('#df-67c1518d-17de-42d6-88dd-6f09781ff105 button.colab-df-convert');\n",
              "      buttonEl.style.display =\n",
              "        google.colab.kernel.accessAllowed ? 'block' : 'none';\n",
              "\n",
              "      async function convertToInteractive(key) {\n",
              "        const element = document.querySelector('#df-67c1518d-17de-42d6-88dd-6f09781ff105');\n",
              "        const dataTable =\n",
              "          await google.colab.kernel.invokeFunction('convertToInteractive',\n",
              "                                                    [key], {});\n",
              "        if (!dataTable) return;\n",
              "\n",
              "        const docLinkHtml = 'Like what you see? Visit the ' +\n",
              "          '<a target=\"_blank\" href=https://colab.research.google.com/notebooks/data_table.ipynb>data table notebook</a>'\n",
              "          + ' to learn more about interactive tables.';\n",
              "        element.innerHTML = '';\n",
              "        dataTable['output_type'] = 'display_data';\n",
              "        await google.colab.output.renderOutput(dataTable, element);\n",
              "        const docLink = document.createElement('div');\n",
              "        docLink.innerHTML = docLinkHtml;\n",
              "        element.appendChild(docLink);\n",
              "      }\n",
              "    </script>\n",
              "  </div>\n",
              "\n",
              "\n",
              "<div id=\"df-c592b886-2801-44f0-ba76-4a12edd83758\">\n",
              "  <button class=\"colab-df-quickchart\" onclick=\"quickchart('df-c592b886-2801-44f0-ba76-4a12edd83758')\"\n",
              "            title=\"Suggest charts\"\n",
              "            style=\"display:none;\">\n",
              "\n",
              "<svg xmlns=\"http://www.w3.org/2000/svg\" height=\"24px\"viewBox=\"0 0 24 24\"\n",
              "     width=\"24px\">\n",
              "    <g>\n",
              "        <path d=\"M19 3H5c-1.1 0-2 .9-2 2v14c0 1.1.9 2 2 2h14c1.1 0 2-.9 2-2V5c0-1.1-.9-2-2-2zM9 17H7v-7h2v7zm4 0h-2V7h2v10zm4 0h-2v-4h2v4z\"/>\n",
              "    </g>\n",
              "</svg>\n",
              "  </button>\n",
              "\n",
              "<style>\n",
              "  .colab-df-quickchart {\n",
              "      --bg-color: #E8F0FE;\n",
              "      --fill-color: #1967D2;\n",
              "      --hover-bg-color: #E2EBFA;\n",
              "      --hover-fill-color: #174EA6;\n",
              "      --disabled-fill-color: #AAA;\n",
              "      --disabled-bg-color: #DDD;\n",
              "  }\n",
              "\n",
              "  [theme=dark] .colab-df-quickchart {\n",
              "      --bg-color: #3B4455;\n",
              "      --fill-color: #D2E3FC;\n",
              "      --hover-bg-color: #434B5C;\n",
              "      --hover-fill-color: #FFFFFF;\n",
              "      --disabled-bg-color: #3B4455;\n",
              "      --disabled-fill-color: #666;\n",
              "  }\n",
              "\n",
              "  .colab-df-quickchart {\n",
              "    background-color: var(--bg-color);\n",
              "    border: none;\n",
              "    border-radius: 50%;\n",
              "    cursor: pointer;\n",
              "    display: none;\n",
              "    fill: var(--fill-color);\n",
              "    height: 32px;\n",
              "    padding: 0;\n",
              "    width: 32px;\n",
              "  }\n",
              "\n",
              "  .colab-df-quickchart:hover {\n",
              "    background-color: var(--hover-bg-color);\n",
              "    box-shadow: 0 1px 2px rgba(60, 64, 67, 0.3), 0 1px 3px 1px rgba(60, 64, 67, 0.15);\n",
              "    fill: var(--button-hover-fill-color);\n",
              "  }\n",
              "\n",
              "  .colab-df-quickchart-complete:disabled,\n",
              "  .colab-df-quickchart-complete:disabled:hover {\n",
              "    background-color: var(--disabled-bg-color);\n",
              "    fill: var(--disabled-fill-color);\n",
              "    box-shadow: none;\n",
              "  }\n",
              "\n",
              "  .colab-df-spinner {\n",
              "    border: 2px solid var(--fill-color);\n",
              "    border-color: transparent;\n",
              "    border-bottom-color: var(--fill-color);\n",
              "    animation:\n",
              "      spin 1s steps(1) infinite;\n",
              "  }\n",
              "\n",
              "  @keyframes spin {\n",
              "    0% {\n",
              "      border-color: transparent;\n",
              "      border-bottom-color: var(--fill-color);\n",
              "      border-left-color: var(--fill-color);\n",
              "    }\n",
              "    20% {\n",
              "      border-color: transparent;\n",
              "      border-left-color: var(--fill-color);\n",
              "      border-top-color: var(--fill-color);\n",
              "    }\n",
              "    30% {\n",
              "      border-color: transparent;\n",
              "      border-left-color: var(--fill-color);\n",
              "      border-top-color: var(--fill-color);\n",
              "      border-right-color: var(--fill-color);\n",
              "    }\n",
              "    40% {\n",
              "      border-color: transparent;\n",
              "      border-right-color: var(--fill-color);\n",
              "      border-top-color: var(--fill-color);\n",
              "    }\n",
              "    60% {\n",
              "      border-color: transparent;\n",
              "      border-right-color: var(--fill-color);\n",
              "    }\n",
              "    80% {\n",
              "      border-color: transparent;\n",
              "      border-right-color: var(--fill-color);\n",
              "      border-bottom-color: var(--fill-color);\n",
              "    }\n",
              "    90% {\n",
              "      border-color: transparent;\n",
              "      border-bottom-color: var(--fill-color);\n",
              "    }\n",
              "  }\n",
              "</style>\n",
              "\n",
              "  <script>\n",
              "    async function quickchart(key) {\n",
              "      const quickchartButtonEl =\n",
              "        document.querySelector('#' + key + ' button');\n",
              "      quickchartButtonEl.disabled = true;  // To prevent multiple clicks.\n",
              "      quickchartButtonEl.classList.add('colab-df-spinner');\n",
              "      try {\n",
              "        const charts = await google.colab.kernel.invokeFunction(\n",
              "            'suggestCharts', [key], {});\n",
              "      } catch (error) {\n",
              "        console.error('Error during call to suggestCharts:', error);\n",
              "      }\n",
              "      quickchartButtonEl.classList.remove('colab-df-spinner');\n",
              "      quickchartButtonEl.classList.add('colab-df-quickchart-complete');\n",
              "    }\n",
              "    (() => {\n",
              "      let quickchartButtonEl =\n",
              "        document.querySelector('#df-c592b886-2801-44f0-ba76-4a12edd83758 button');\n",
              "      quickchartButtonEl.style.display =\n",
              "        google.colab.kernel.accessAllowed ? 'block' : 'none';\n",
              "    })();\n",
              "  </script>\n",
              "</div>\n",
              "\n",
              "    </div>\n",
              "  </div>\n"
            ],
            "application/vnd.google.colaboratory.intrinsic+json": {
              "type": "dataframe",
              "variable_name": "df"
            }
          },
          "metadata": {},
          "execution_count": 67
        }
      ]
    },
    {
      "cell_type": "code",
      "source": [
        "categorical_columns = df.select_dtypes(include=['object', 'category']).columns\n",
        "\n",
        "print(categorical_columns)"
      ],
      "metadata": {
        "colab": {
          "base_uri": "https://localhost:8080/",
          "height": 0
        },
        "id": "_X-KF5BQPW8V",
        "outputId": "11dbce46-971d-4581-aaa5-7a06bae02f0a"
      },
      "execution_count": 68,
      "outputs": [
        {
          "output_type": "stream",
          "name": "stdout",
          "text": [
            "Index(['PhysicalActivities', 'SmokerStatus', 'AlcoholDrinkers', 'RemovedTeeth',\n",
            "       'DifficultyConcentrating', 'LastCheckupTime', 'BlindOrVisionDifficulty',\n",
            "       'Sex', 'DifficultyDressingBathing', 'DifficultyErrands',\n",
            "       'DeafOrHardOfHearing', 'HadKidneyDisease', 'HadArthritis',\n",
            "       'PneumoVaxEver', 'HadCOPD', 'HadDiabetes', 'DifficultyWalking',\n",
            "       'ChestScan', 'AgeCategory', 'HadStroke', 'HadAngina', 'HadHeartAttack',\n",
            "       'GeneralHealth'],\n",
            "      dtype='object')\n"
          ]
        }
      ]
    },
    {
      "cell_type": "code",
      "source": [
        "df['HadStroke'].unique()"
      ],
      "metadata": {
        "colab": {
          "base_uri": "https://localhost:8080/",
          "height": 0
        },
        "id": "BE1WCgBr2xSr",
        "outputId": "99b05269-d02f-48d7-f821-e27782498c5b"
      },
      "execution_count": 69,
      "outputs": [
        {
          "output_type": "execute_result",
          "data": {
            "text/plain": [
              "array(['No', 'Yes'], dtype=object)"
            ]
          },
          "metadata": {},
          "execution_count": 69
        }
      ]
    },
    {
      "cell_type": "code",
      "source": [
        "df['ChestScan'].unique()"
      ],
      "metadata": {
        "colab": {
          "base_uri": "https://localhost:8080/",
          "height": 0
        },
        "id": "3rUgCmF_2m0t",
        "outputId": "639dc342-030a-4490-a3e7-c6f5b745ef97"
      },
      "execution_count": 70,
      "outputs": [
        {
          "output_type": "execute_result",
          "data": {
            "text/plain": [
              "array(['No', 'Yes'], dtype=object)"
            ]
          },
          "metadata": {},
          "execution_count": 70
        }
      ]
    },
    {
      "cell_type": "code",
      "source": [
        "df['DifficultyWalking'].unique()"
      ],
      "metadata": {
        "colab": {
          "base_uri": "https://localhost:8080/",
          "height": 0
        },
        "id": "iy8-F6k22Zdc",
        "outputId": "992034d7-e10c-4d45-d5e7-f9dfba66fe54"
      },
      "execution_count": 71,
      "outputs": [
        {
          "output_type": "execute_result",
          "data": {
            "text/plain": [
              "array(['No', 'Yes'], dtype=object)"
            ]
          },
          "metadata": {},
          "execution_count": 71
        }
      ]
    },
    {
      "cell_type": "code",
      "source": [
        "df['HadDiabetes'].unique()"
      ],
      "metadata": {
        "colab": {
          "base_uri": "https://localhost:8080/",
          "height": 0
        },
        "id": "bf5BPCBR18bX",
        "outputId": "5d7f02e4-658a-4150-b04a-9de1219cda0d"
      },
      "execution_count": 72,
      "outputs": [
        {
          "output_type": "execute_result",
          "data": {
            "text/plain": [
              "array(['No', 'Yes', 'Yes, but only during pregnancy (female)',\n",
              "       'No, pre-diabetes or borderline diabetes'], dtype=object)"
            ]
          },
          "metadata": {},
          "execution_count": 72
        }
      ]
    },
    {
      "cell_type": "code",
      "source": [
        "df['HadDiabetes'] = df['HadDiabetes'].replace({\n",
        "    'No': 0,\n",
        "    'Yes': 1,\n",
        "    'Yes, but only during pregnancy (female)': 1,\n",
        "    'No, pre-diabetes or borderline diabetes': 0\n",
        "})\n"
      ],
      "metadata": {
        "id": "AkNs7oXK2UwC"
      },
      "execution_count": 73,
      "outputs": []
    },
    {
      "cell_type": "code",
      "source": [
        "df['HadCOPD'].unique()"
      ],
      "metadata": {
        "colab": {
          "base_uri": "https://localhost:8080/",
          "height": 0
        },
        "id": "69FqiqG21z3m",
        "outputId": "a9a32ebb-f484-485b-ee11-9bc3bcc4c6f9"
      },
      "execution_count": 74,
      "outputs": [
        {
          "output_type": "execute_result",
          "data": {
            "text/plain": [
              "array(['No', 'Yes'], dtype=object)"
            ]
          },
          "metadata": {},
          "execution_count": 74
        }
      ]
    },
    {
      "cell_type": "code",
      "source": [
        "df['PneumoVaxEver'].unique()"
      ],
      "metadata": {
        "colab": {
          "base_uri": "https://localhost:8080/",
          "height": 0
        },
        "id": "w-LfRXUD1qaq",
        "outputId": "a7a78ad5-b088-48fe-dccb-4129ed5c1854"
      },
      "execution_count": 75,
      "outputs": [
        {
          "output_type": "execute_result",
          "data": {
            "text/plain": [
              "array(['Yes', 'No'], dtype=object)"
            ]
          },
          "metadata": {},
          "execution_count": 75
        }
      ]
    },
    {
      "cell_type": "code",
      "source": [
        "df['HadKidneyDisease'].unique()"
      ],
      "metadata": {
        "colab": {
          "base_uri": "https://localhost:8080/",
          "height": 0
        },
        "id": "j8Mfz9TS1WWX",
        "outputId": "589ea21f-2e54-4592-e1be-2a5ca8982a5d"
      },
      "execution_count": 76,
      "outputs": [
        {
          "output_type": "execute_result",
          "data": {
            "text/plain": [
              "array(['No', 'Yes'], dtype=object)"
            ]
          },
          "metadata": {},
          "execution_count": 76
        }
      ]
    },
    {
      "cell_type": "code",
      "source": [
        "df['DeafOrHardOfHearing'].unique()"
      ],
      "metadata": {
        "colab": {
          "base_uri": "https://localhost:8080/",
          "height": 0
        },
        "id": "H-o1sXjq1JoV",
        "outputId": "26159b61-48b9-4e78-c113-c4e61e020242"
      },
      "execution_count": 77,
      "outputs": [
        {
          "output_type": "execute_result",
          "data": {
            "text/plain": [
              "array(['No', 'Yes'], dtype=object)"
            ]
          },
          "metadata": {},
          "execution_count": 77
        }
      ]
    },
    {
      "cell_type": "code",
      "source": [
        "df['DifficultyErrands'].unique()"
      ],
      "metadata": {
        "colab": {
          "base_uri": "https://localhost:8080/",
          "height": 0
        },
        "id": "Bv2kuISw08OH",
        "outputId": "80e64c4d-7ae7-473a-8ec1-4cad8c1c8284"
      },
      "execution_count": 78,
      "outputs": [
        {
          "output_type": "execute_result",
          "data": {
            "text/plain": [
              "array(['No', 'Yes'], dtype=object)"
            ]
          },
          "metadata": {},
          "execution_count": 78
        }
      ]
    },
    {
      "cell_type": "code",
      "source": [
        "df['DifficultyDressingBathing'].unique()"
      ],
      "metadata": {
        "colab": {
          "base_uri": "https://localhost:8080/",
          "height": 0
        },
        "id": "byG9br3N0uuZ",
        "outputId": "eb0f5362-75ff-4d9d-e380-9ae614eb069b"
      },
      "execution_count": 79,
      "outputs": [
        {
          "output_type": "execute_result",
          "data": {
            "text/plain": [
              "array(['No', 'Yes'], dtype=object)"
            ]
          },
          "metadata": {},
          "execution_count": 79
        }
      ]
    },
    {
      "cell_type": "code",
      "source": [
        "df['Sex'].unique()"
      ],
      "metadata": {
        "colab": {
          "base_uri": "https://localhost:8080/",
          "height": 0
        },
        "id": "ZoiAOA8s0Wjr",
        "outputId": "3f2b7477-7dd6-4175-89b4-adc066c674aa"
      },
      "execution_count": 80,
      "outputs": [
        {
          "output_type": "execute_result",
          "data": {
            "text/plain": [
              "array(['Female', 'Male'], dtype=object)"
            ]
          },
          "metadata": {},
          "execution_count": 80
        }
      ]
    },
    {
      "cell_type": "code",
      "source": [
        "df['Sex'] = df['Sex'].replace({\n",
        "    'Female': 0,\n",
        "    'Male': 1\n",
        "})\n"
      ],
      "metadata": {
        "id": "rK5vGxvI0lXC"
      },
      "execution_count": 81,
      "outputs": []
    },
    {
      "cell_type": "code",
      "source": [
        "df['BlindOrVisionDifficulty'].unique()"
      ],
      "metadata": {
        "colab": {
          "base_uri": "https://localhost:8080/",
          "height": 0
        },
        "id": "q7_XpxCO0E4Y",
        "outputId": "8144489e-7e89-4b67-c4d3-6709820b7ac6"
      },
      "execution_count": 82,
      "outputs": [
        {
          "output_type": "execute_result",
          "data": {
            "text/plain": [
              "array(['No', 'Yes'], dtype=object)"
            ]
          },
          "metadata": {},
          "execution_count": 82
        }
      ]
    },
    {
      "cell_type": "code",
      "source": [
        "df['LastCheckupTime'].unique()"
      ],
      "metadata": {
        "colab": {
          "base_uri": "https://localhost:8080/",
          "height": 0
        },
        "id": "XvK6TxiTzmt4",
        "outputId": "880ff3d8-a82b-49e1-851e-fceb6cd88ba8"
      },
      "execution_count": 83,
      "outputs": [
        {
          "output_type": "execute_result",
          "data": {
            "text/plain": [
              "array(['Within past year (anytime less than 12 months ago)',\n",
              "       '5 or more years ago',\n",
              "       'Within past 2 years (1 year but less than 2 years ago)',\n",
              "       'Within past 5 years (2 years but less than 5 years ago)'],\n",
              "      dtype=object)"
            ]
          },
          "metadata": {},
          "execution_count": 83
        }
      ]
    },
    {
      "cell_type": "code",
      "source": [
        "df['LastCheckupTime'] = df['LastCheckupTime'].replace({\n",
        "    'Within past year (anytime less than 12 months ago)': 0,\n",
        "    'Within past 2 years (1 year but less than 2 years ago)': 1,\n",
        "    'Within past 5 years (2 years but less than 5 years ago)': 2,\n",
        "    '5 or more years ago': 3\n",
        "})\n"
      ],
      "metadata": {
        "id": "nTyNhXnez8BN"
      },
      "execution_count": 84,
      "outputs": []
    },
    {
      "cell_type": "code",
      "source": [
        "df['DifficultyConcentrating'].unique()"
      ],
      "metadata": {
        "colab": {
          "base_uri": "https://localhost:8080/",
          "height": 0
        },
        "id": "EdzVFqshzQmc",
        "outputId": "6d1da198-341a-482b-bbe3-c4793387daad"
      },
      "execution_count": 85,
      "outputs": [
        {
          "output_type": "execute_result",
          "data": {
            "text/plain": [
              "array(['No', 'Yes'], dtype=object)"
            ]
          },
          "metadata": {},
          "execution_count": 85
        }
      ]
    },
    {
      "cell_type": "code",
      "source": [
        "df['RemovedTeeth'].unique()"
      ],
      "metadata": {
        "colab": {
          "base_uri": "https://localhost:8080/",
          "height": 0
        },
        "id": "dr3jPFmayheX",
        "outputId": "d6ff06dc-e776-46ac-e5bf-af7af7336fdc"
      },
      "execution_count": 86,
      "outputs": [
        {
          "output_type": "execute_result",
          "data": {
            "text/plain": [
              "array(['None of them', '6 or more, but not all', '1 to 5', 'All'],\n",
              "      dtype=object)"
            ]
          },
          "metadata": {},
          "execution_count": 86
        }
      ]
    },
    {
      "cell_type": "code",
      "source": [
        "df['RemovedTeeth'] = df['RemovedTeeth'].replace({\n",
        "    'None of them': 0,\n",
        "    '1 to 5': 1,\n",
        "    '6 or more, but not all': 2,\n",
        "    'All': 3\n",
        "})"
      ],
      "metadata": {
        "id": "jmxccFtczHE6"
      },
      "execution_count": 87,
      "outputs": []
    },
    {
      "cell_type": "code",
      "source": [
        "df['AlcoholDrinkers'].unique()"
      ],
      "metadata": {
        "colab": {
          "base_uri": "https://localhost:8080/",
          "height": 0
        },
        "id": "p8PReeJLyJ0a",
        "outputId": "0b3f3ccf-0795-4a80-b560-effe9f80b0a0"
      },
      "execution_count": 88,
      "outputs": [
        {
          "output_type": "execute_result",
          "data": {
            "text/plain": [
              "array(['No', 'Yes'], dtype=object)"
            ]
          },
          "metadata": {},
          "execution_count": 88
        }
      ]
    },
    {
      "cell_type": "code",
      "source": [
        "df['PhysicalActivities'].unique()"
      ],
      "metadata": {
        "colab": {
          "base_uri": "https://localhost:8080/",
          "height": 0
        },
        "id": "oN6u-TN0PeCK",
        "outputId": "4342bd88-6227-4df5-954c-2a082b2012d9"
      },
      "execution_count": 89,
      "outputs": [
        {
          "output_type": "execute_result",
          "data": {
            "text/plain": [
              "array(['Yes', 'No'], dtype=object)"
            ]
          },
          "metadata": {},
          "execution_count": 89
        }
      ]
    },
    {
      "cell_type": "code",
      "source": [
        "df['HadHeartAttack'].unique()"
      ],
      "metadata": {
        "colab": {
          "base_uri": "https://localhost:8080/",
          "height": 0
        },
        "id": "J4hKQxzDPxH5",
        "outputId": "63addb9e-959c-42d7-ea3c-239a7e1df8fd"
      },
      "execution_count": 90,
      "outputs": [
        {
          "output_type": "execute_result",
          "data": {
            "text/plain": [
              "array(['No', 'Yes'], dtype=object)"
            ]
          },
          "metadata": {},
          "execution_count": 90
        }
      ]
    },
    {
      "cell_type": "code",
      "source": [
        "df['HadAngina'].unique()"
      ],
      "metadata": {
        "colab": {
          "base_uri": "https://localhost:8080/",
          "height": 0
        },
        "id": "xT9OqKmPPrVE",
        "outputId": "488e7148-15a1-4a32-cd3c-750aad1584f4"
      },
      "execution_count": 91,
      "outputs": [
        {
          "output_type": "execute_result",
          "data": {
            "text/plain": [
              "array(['No', 'Yes'], dtype=object)"
            ]
          },
          "metadata": {},
          "execution_count": 91
        }
      ]
    },
    {
      "cell_type": "code",
      "source": [
        "df['HadArthritis'].unique()"
      ],
      "metadata": {
        "colab": {
          "base_uri": "https://localhost:8080/",
          "height": 0
        },
        "id": "vUNGUDvXP173",
        "outputId": "fe9fe9a2-57e0-493a-e3a9-628a8118207f"
      },
      "execution_count": 92,
      "outputs": [
        {
          "output_type": "execute_result",
          "data": {
            "text/plain": [
              "array(['Yes', 'No'], dtype=object)"
            ]
          },
          "metadata": {},
          "execution_count": 92
        }
      ]
    },
    {
      "cell_type": "code",
      "source": [
        "df['HadAngina'] = df['HadAngina'].replace({'Yes': 1, 'No': 0})\n",
        "df['HadArthritis'] = df['HadArthritis'].replace({'Yes': 1, 'No': 0})\n",
        "df['HadHeartAttack'] = df['HadHeartAttack'].replace({'Yes': 1, 'No': 0})\n",
        "df['PhysicalActivities'] = df['PhysicalActivities'].replace({'Yes': 1, 'No': 0})\n",
        "df['AlcoholDrinkers'] = df['AlcoholDrinkers'].replace({'Yes': 1, 'No':0})\n",
        "df['DifficultyConcentrating'] = df['DifficultyConcentrating'].replace({'Yes': 1, 'No':0})\n",
        "df['BlindOrVisionDifficulty'] = df['BlindOrVisionDifficulty'].replace({'Yes': 1, 'No':0})\n",
        "df['DifficultyDressingBathing'] = df['DifficultyDressingBathing'].replace({'Yes': 1, 'No':0})\n",
        "df['DifficultyErrands'] = df['DifficultyErrands'].replace({'Yes': 1, 'No':0})\n",
        "df['DeafOrHardOfHearing'] = df['DeafOrHardOfHearing'].replace({'Yes': 1, 'No':0})\n",
        "df['HadKidneyDisease'] = df['HadKidneyDisease'].replace({'Yes': 1, 'No':0})\n",
        "df['PneumoVaxEver'] = df['PneumoVaxEver'].replace({'Yes': 1, 'No':0})\n",
        "df['HadCOPD'] = df['HadCOPD'].replace({'Yes': 1, 'No':0})\n",
        "df['DifficultyWalking'] = df['DifficultyWalking'].replace({'Yes': 1, 'No':0})\n",
        "df['ChestScan'] = df['ChestScan'].replace({'Yes': 1, 'No':0})\n",
        "df['HadStroke'] = df['HadStroke'].replace({'Yes': 1, 'No':0})"
      ],
      "metadata": {
        "id": "dSMegJhSZSES"
      },
      "execution_count": 93,
      "outputs": []
    },
    {
      "cell_type": "code",
      "source": [
        "df['SmokerStatus'].unique()"
      ],
      "metadata": {
        "colab": {
          "base_uri": "https://localhost:8080/",
          "height": 0
        },
        "id": "AgCKk3dKP1cR",
        "outputId": "2f565646-0546-46bd-98a0-4b7122a83aa6"
      },
      "execution_count": 94,
      "outputs": [
        {
          "output_type": "execute_result",
          "data": {
            "text/plain": [
              "array(['Former smoker', 'Never smoked',\n",
              "       'Current smoker - now smokes every day',\n",
              "       'Current smoker - now smokes some days'], dtype=object)"
            ]
          },
          "metadata": {},
          "execution_count": 94
        }
      ]
    },
    {
      "cell_type": "code",
      "source": [
        "df.replace({'SmokerStatus': {'Former smoker': 1,\n",
        "                             'Never smoked': 0,\n",
        "                             'Current smoker - now smokes every day': 3,\n",
        "                             'Current smoker - now smokes some days': 2}}, inplace=True)\n"
      ],
      "metadata": {
        "id": "Lkk5mGooXSVO"
      },
      "execution_count": 95,
      "outputs": []
    },
    {
      "cell_type": "code",
      "source": [
        "df['GeneralHealth'].unique()"
      ],
      "metadata": {
        "colab": {
          "base_uri": "https://localhost:8080/",
          "height": 0
        },
        "id": "740HXSKEP1WH",
        "outputId": "ca74b4ae-0b2e-4dde-fa70-46b4d8347767"
      },
      "execution_count": 96,
      "outputs": [
        {
          "output_type": "execute_result",
          "data": {
            "text/plain": [
              "array(['Very good', 'Fair', 'Good', 'Excellent', 'Poor'], dtype=object)"
            ]
          },
          "metadata": {},
          "execution_count": 96
        }
      ]
    },
    {
      "cell_type": "code",
      "source": [
        "df.replace({'GeneralHealth': {'Very good': 3,\n",
        "                              'Excellent': 4,\n",
        "                              'Good': 2,\n",
        "                              'Fair': 1,\n",
        "                              'Poor': 0}}, inplace=True)\n"
      ],
      "metadata": {
        "id": "ZgpAnBocXsyH"
      },
      "execution_count": 97,
      "outputs": []
    },
    {
      "cell_type": "code",
      "source": [
        "df['AgeCategory'].unique()"
      ],
      "metadata": {
        "colab": {
          "base_uri": "https://localhost:8080/",
          "height": 0
        },
        "id": "3nu90uHtP1Nh",
        "outputId": "a63632d9-da94-4498-be65-314066d20a71"
      },
      "execution_count": 98,
      "outputs": [
        {
          "output_type": "execute_result",
          "data": {
            "text/plain": [
              "array(['Age 65 to 69', 'Age 70 to 74', 'Age 75 to 79', 'Age 80 or older',\n",
              "       'Age 50 to 54', 'Age 40 to 44', 'Age 60 to 64', 'Age 55 to 59',\n",
              "       'Age 45 to 49', 'Age 35 to 39', 'Age 25 to 29', 'Age 30 to 34',\n",
              "       'Age 18 to 24'], dtype=object)"
            ]
          },
          "metadata": {},
          "execution_count": 98
        }
      ]
    },
    {
      "cell_type": "code",
      "source": [
        "df.replace({'AgeCategory': {'Age 18 to 24': 0,\n",
        "                             'Age 25 to 29': 1,\n",
        "                             'Age 30 to 34': 2,\n",
        "                             'Age 35 to 39': 3,\n",
        "                             'Age 40 to 44': 4,\n",
        "                             'Age 45 to 49': 5,\n",
        "                             'Age 50 to 54': 6,\n",
        "                             'Age 55 to 59': 7,\n",
        "                             'Age 60 to 64': 8,\n",
        "                             'Age 65 to 69': 9,\n",
        "                             'Age 70 to 74': 10,\n",
        "                             'Age 75 to 79': 11,\n",
        "                             'Age 80 or older': 12}}, inplace=True)\n"
      ],
      "metadata": {
        "id": "yGtC-YLVX2br"
      },
      "execution_count": 99,
      "outputs": []
    },
    {
      "cell_type": "code",
      "source": [
        "df.columns"
      ],
      "metadata": {
        "colab": {
          "base_uri": "https://localhost:8080/",
          "height": 0
        },
        "id": "LNHdK2LdX433",
        "outputId": "7de3dc3e-926e-42be-cc0b-3ad6fbfe126f"
      },
      "execution_count": 100,
      "outputs": [
        {
          "output_type": "execute_result",
          "data": {
            "text/plain": [
              "Index(['PhysicalActivities', 'SmokerStatus', 'AlcoholDrinkers', 'RemovedTeeth',\n",
              "       'DifficultyConcentrating', 'LastCheckupTime', 'BlindOrVisionDifficulty',\n",
              "       'Sex', 'DifficultyDressingBathing', 'DifficultyErrands',\n",
              "       'DeafOrHardOfHearing', 'HadKidneyDisease', 'HadArthritis',\n",
              "       'PneumoVaxEver', 'HadCOPD', 'HadDiabetes', 'DifficultyWalking',\n",
              "       'ChestScan', 'AgeCategory', 'HadStroke', 'HadAngina', 'HadHeartAttack',\n",
              "       'GeneralHealth', 'PhysicalHealthDays', 'MentalHealthDays', 'SleepHours',\n",
              "       'WeightInKilograms', 'BMI'],\n",
              "      dtype='object')"
            ]
          },
          "metadata": {},
          "execution_count": 100
        }
      ]
    },
    {
      "cell_type": "code",
      "source": [
        "X = df.drop(['HadHeartAttack'], axis = 1)\n",
        "y = df['HadHeartAttack']"
      ],
      "metadata": {
        "id": "kEbT-Bx8afsK"
      },
      "execution_count": 101,
      "outputs": []
    },
    {
      "cell_type": "code",
      "source": [
        "y.value_counts()"
      ],
      "metadata": {
        "colab": {
          "base_uri": "https://localhost:8080/",
          "height": 0
        },
        "id": "C6ECN1-CbYgN",
        "outputId": "55b778ff-79c6-464b-8e97-d5abd8f00a06"
      },
      "execution_count": 102,
      "outputs": [
        {
          "output_type": "execute_result",
          "data": {
            "text/plain": [
              "HadHeartAttack\n",
              "0    232587\n",
              "1     13435\n",
              "Name: count, dtype: int64"
            ]
          },
          "metadata": {},
          "execution_count": 102
        }
      ]
    },
    {
      "cell_type": "code",
      "source": [
        "import matplotlib.pyplot as plt\n",
        "\n",
        "class_counts = y.value_counts()\n",
        "\n",
        "plt.figure(figsize=(8, 6))\n",
        "plt.pie(class_counts, labels=class_counts.index, autopct='%1.1f%%', startangle=140)\n",
        "plt.title('Distribution of Classes')\n",
        "plt.axis('equal')\n",
        "plt.show()\n"
      ],
      "metadata": {
        "colab": {
          "base_uri": "https://localhost:8080/",
          "height": 521
        },
        "id": "DgvLTXwobze2",
        "outputId": "b2092706-c0f5-45c5-b376-a515e3e55923"
      },
      "execution_count": 103,
      "outputs": [
        {
          "output_type": "display_data",
          "data": {
            "text/plain": [
              "<Figure size 800x600 with 1 Axes>"
            ],
            "image/png": "[encoded data removed]"
          },
          "metadata": {}
        }
      ]
    },
    {
      "cell_type": "markdown",
      "source": [
        "Peform under sampling"
      ],
      "metadata": {
        "id": "PqpVOH-ScGgS"
      }
    },
    {
      "cell_type": "code",
      "source": [
        "from imblearn.under_sampling import RandomUnderSampler\n",
        "\n",
        "rus = RandomUnderSampler(sampling_strategy=1)\n",
        "X_res, y_res = rus.fit_resample(X, y)\n",
        "\n",
        "ax = y_res.value_counts().plot.pie(autopct='%.2f')\n",
        "_ = ax.set_title(\"Under-sampling\")"
      ],
      "metadata": {
        "colab": {
          "base_uri": "https://localhost:8080/",
          "height": 428
        },
        "id": "lT6eMbe7cGBS",
        "outputId": "a4aba4f8-7d7c-48ad-ebb1-cbce2a1df927"
      },
      "execution_count": 104,
      "outputs": [
        {
          "output_type": "display_data",
          "data": {
            "text/plain": [
              "<Figure size 640x480 with 1 Axes>"
            ],
            "image/png": "[encoded data removed]"
          },
          "metadata": {}
        }
      ]
    },
    {
      "cell_type": "code",
      "source": [
        "y.value_counts()\n"
      ],
      "metadata": {
        "colab": {
          "base_uri": "https://localhost:8080/",
          "height": 0
        },
        "id": "CoTk4NORcmJZ",
        "outputId": "21936b92-6c11-42e0-8b9d-7d04908f0e1c"
      },
      "execution_count": 105,
      "outputs": [
        {
          "output_type": "execute_result",
          "data": {
            "text/plain": [
              "HadHeartAttack\n",
              "0    232587\n",
              "1     13435\n",
              "Name: count, dtype: int64"
            ]
          },
          "metadata": {},
          "execution_count": 105
        }
      ]
    },
    {
      "cell_type": "code",
      "source": [
        "y_res.value_counts()"
      ],
      "metadata": {
        "colab": {
          "base_uri": "https://localhost:8080/",
          "height": 0
        },
        "id": "BtpA3RZHBGLf",
        "outputId": "0db55e88-4f00-4242-8b02-d2c0af5d9c92"
      },
      "execution_count": 106,
      "outputs": [
        {
          "output_type": "execute_result",
          "data": {
            "text/plain": [
              "HadHeartAttack\n",
              "0    13435\n",
              "1    13435\n",
              "Name: count, dtype: int64"
            ]
          },
          "metadata": {},
          "execution_count": 106
        }
      ]
    },
    {
      "cell_type": "code",
      "source": [
        "from sklearn.model_selection import train_test_split\n",
        "from sklearn.linear_model import LogisticRegression\n",
        "from sklearn.metrics import accuracy_score\n",
        "from imblearn.under_sampling import RandomUnderSampler\n",
        "\n",
        "X_train, X_test, y_train, y_test = train_test_split(X_res, y_res, test_size=0.3, random_state=42)\n",
        "\n",
        "log_reg = LogisticRegression(solver='liblinear')\n",
        "\n",
        "log_reg.fit(X_train, y_train)\n",
        "\n",
        "y_train_pred = log_reg.predict(X_train)\n",
        "y_test_pred = log_reg.predict(X_test)\n",
        "\n",
        "train_accuracy = accuracy_score(y_train, y_train_pred)\n",
        "test_accuracy = accuracy_score(y_test, y_test_pred)\n",
        "\n",
        "print(f\"Training Accuracy: {train_accuracy:.4f}\")\n",
        "print(f\"Test Accuracy: {test_accuracy:.4f}\")\n"
      ],
      "metadata": {
        "colab": {
          "base_uri": "https://localhost:8080/",
          "height": 0
        },
        "id": "nYaKi0MdZ-pq",
        "outputId": "58b523e8-7e2a-4caf-f014-0df26fe30f18"
      },
      "execution_count": 107,
      "outputs": [
        {
          "output_type": "stream",
          "name": "stdout",
          "text": [
            "Training Accuracy: 0.7996\n",
            "Test Accuracy: 0.7978\n"
          ]
        }
      ]
    },
    {
      "cell_type": "code",
      "source": [
        "X_train.columns"
      ],
      "metadata": {
        "colab": {
          "base_uri": "https://localhost:8080/",
          "height": 0
        },
        "id": "8nOneTzbBoCs",
        "outputId": "8bd7636c-ebd9-4923-fb36-c07b8e3c2289"
      },
      "execution_count": 108,
      "outputs": [
        {
          "output_type": "execute_result",
          "data": {
            "text/plain": [
              "Index(['PhysicalActivities', 'SmokerStatus', 'AlcoholDrinkers', 'RemovedTeeth',\n",
              "       'DifficultyConcentrating', 'LastCheckupTime', 'BlindOrVisionDifficulty',\n",
              "       'Sex', 'DifficultyDressingBathing', 'DifficultyErrands',\n",
              "       'DeafOrHardOfHearing', 'HadKidneyDisease', 'HadArthritis',\n",
              "       'PneumoVaxEver', 'HadCOPD', 'HadDiabetes', 'DifficultyWalking',\n",
              "       'ChestScan', 'AgeCategory', 'HadStroke', 'HadAngina', 'GeneralHealth',\n",
              "       'PhysicalHealthDays', 'MentalHealthDays', 'SleepHours',\n",
              "       'WeightInKilograms', 'BMI'],\n",
              "      dtype='object')"
            ]
          },
          "metadata": {},
          "execution_count": 108
        }
      ]
    },
    {
      "cell_type": "code",
      "source": [
        "from sklearn.metrics import classification_report\n",
        "\n",
        "y_train_pred = log_reg.predict(X_train)\n",
        "\n",
        "print(\"Training Classification Report:\")\n",
        "print(classification_report(y_train, y_train_pred))\n",
        "\n",
        "y_test_pred = log_reg.predict(X_test)\n",
        "\n",
        "print(\"\\nTesting Classification Report:\")\n",
        "print(classification_report(y_test, y_test_pred))\n"
      ],
      "metadata": {
        "colab": {
          "base_uri": "https://localhost:8080/",
          "height": 0
        },
        "id": "wu38HRD8dkEe",
        "outputId": "3eed75f7-b5c3-44e3-ffab-db3aa03e6aa4"
      },
      "execution_count": 109,
      "outputs": [
        {
          "output_type": "stream",
          "name": "stdout",
          "text": [
            "Training Classification Report:\n",
            "              precision    recall  f1-score   support\n",
            "\n",
            "           0       0.78      0.83      0.81      9417\n",
            "           1       0.82      0.77      0.79      9392\n",
            "\n",
            "    accuracy                           0.80     18809\n",
            "   macro avg       0.80      0.80      0.80     18809\n",
            "weighted avg       0.80      0.80      0.80     18809\n",
            "\n",
            "\n",
            "Testing Classification Report:\n",
            "              precision    recall  f1-score   support\n",
            "\n",
            "           0       0.78      0.84      0.80      4018\n",
            "           1       0.82      0.76      0.79      4043\n",
            "\n",
            "    accuracy                           0.80      8061\n",
            "   macro avg       0.80      0.80      0.80      8061\n",
            "weighted avg       0.80      0.80      0.80      8061\n",
            "\n"
          ]
        }
      ]
    },
    {
      "cell_type": "code",
      "source": [
        "X_res.columns"
      ],
      "metadata": {
        "colab": {
          "base_uri": "https://localhost:8080/",
          "height": 0
        },
        "id": "qDFx9huPeX9h",
        "outputId": "ef6c0195-ffbb-43cc-8f07-a047315f8674"
      },
      "execution_count": 110,
      "outputs": [
        {
          "output_type": "execute_result",
          "data": {
            "text/plain": [
              "Index(['PhysicalActivities', 'SmokerStatus', 'AlcoholDrinkers', 'RemovedTeeth',\n",
              "       'DifficultyConcentrating', 'LastCheckupTime', 'BlindOrVisionDifficulty',\n",
              "       'Sex', 'DifficultyDressingBathing', 'DifficultyErrands',\n",
              "       'DeafOrHardOfHearing', 'HadKidneyDisease', 'HadArthritis',\n",
              "       'PneumoVaxEver', 'HadCOPD', 'HadDiabetes', 'DifficultyWalking',\n",
              "       'ChestScan', 'AgeCategory', 'HadStroke', 'HadAngina', 'GeneralHealth',\n",
              "       'PhysicalHealthDays', 'MentalHealthDays', 'SleepHours',\n",
              "       'WeightInKilograms', 'BMI'],\n",
              "      dtype='object')"
            ]
          },
          "metadata": {},
          "execution_count": 110
        }
      ]
    },
    {
      "cell_type": "code",
      "source": [
        "def predict_new_values(new_data, log_reg, scaler):\n",
        "\n",
        "    numerical_cols = new_data.select_dtypes(include=['float64', 'int64']).columns\n",
        "    new_data[numerical_cols] = scaler.transform(new_data[numerical_cols])\n",
        "\n",
        "\n",
        "    predictions = log_reg.predict(new_data)\n",
        "\n",
        "    return predictions\n"
      ],
      "metadata": {
        "id": "6aYw3yTmehab"
      },
      "execution_count": 111,
      "outputs": []
    },
    {
      "cell_type": "code",
      "source": [
        "import pandas as pd\n",
        "\n",
        "def predict_probabilities(new_data, log_reg, scaler):\n",
        "    numerical_cols = ['PhysicalHealthDays', 'MentalHealthDays', 'SleepHours', 'WeightInKilograms', 'BMI']\n",
        "    new_data[numerical_cols] = scaler.transform(new_data[numerical_cols])\n",
        "    probabilities = log_reg.predict_proba(new_data)[:, 1]\n",
        "    probabilities_rounded = [round(prob, 2) for prob in probabilities]\n",
        "    return probabilities_rounded\n"
      ],
      "metadata": {
        "id": "vmBfMdTvgxek"
      },
      "execution_count": 112,
      "outputs": []
    },
    {
      "cell_type": "code",
      "source": [
        "new_data_sample = pd.DataFrame({\n",
        "    'PhysicalActivities': [1, 0],\n",
        "    'SmokerStatus': [0, 1],\n",
        "    'AlcoholDrinkers': [1, 1],\n",
        "    'RemovedTeeth': [0, 0],\n",
        "    'DifficultyConcentrating': [0, 1],\n",
        "    'LastCheckupTime': [1, 0],\n",
        "    'BlindOrVisionDifficulty': [0, 1],\n",
        "    'Sex': [0, 1],\n",
        "    'DifficultyDressingBathing': [0, 1],\n",
        "    'DifficultyErrands': [0, 1],\n",
        "    'DeafOrHardOfHearing': [1, 0],\n",
        "    'HadKidneyDisease': [0, 1],\n",
        "    'HadArthritis': [1, 0],\n",
        "    'PneumoVaxEver': [1, 0],\n",
        "    'HadCOPD': [0, 1],\n",
        "    'HadDiabetes': [1, 0],\n",
        "    'DifficultyWalking': [2, 1],\n",
        "    'ChestScan': [0, 1],\n",
        "    'AgeCategory': [5, 8],\n",
        "    'HadStroke': [0, 1],\n",
        "    'HadAngina': [1, 0],\n",
        "    'GeneralHealth': [2, 3],\n",
        "    'PhysicalHealthDays': [5, 4],\n",
        "    'MentalHealthDays': [1, 2],\n",
        "    'SleepHours': [7, 6],\n",
        "    'WeightInKilograms': [70.0, 85.0],\n",
        "    'BMI': [22.0, 27.5]\n",
        "})\n"
      ],
      "metadata": {
        "id": "WCdaLdGbhvhd"
      },
      "execution_count": 113,
      "outputs": []
    },
    {
      "cell_type": "code",
      "source": [
        "predict_probabilities(new_data_sample, log_reg, scaler)"
      ],
      "metadata": {
        "colab": {
          "base_uri": "https://localhost:8080/",
          "height": 0
        },
        "id": "M_G-seTchxxo",
        "outputId": "e1946c3e-c94a-45ef-8fa7-2188b70f10e6"
      },
      "execution_count": 114,
      "outputs": [
        {
          "output_type": "execute_result",
          "data": {
            "text/plain": [
              "[0.65, 0.73]"
            ]
          },
          "metadata": {},
          "execution_count": 114
        }
      ]
    },
    {
      "cell_type": "markdown",
      "source": [
        "**PhysicalActivities:** <br>\n",
        "Whether the individual engages in physical activities. Encoded as 0 (No) or 1 (Yes).<br>\n",
        "**SmokerStatus:**<br> The smoking status of the individual. Encoded as 0 (Never smoked), 1 (Former smoker), 2 (Current smoker - now smokes some days), 3 (Current smoker - now smokes every day).<br>\n",
        "**AlcoholDrinkers:**<br> Whether the individual consumes alcohol. Encoded as 0 (No) or 1 (Yes).<br>\n",
        "**RemovedTeeth:**<br> The status of teeth removal. Encoded differently, possibly indicating the number or condition of teeth removed.<br>\n",
        "**DifficultyConcentrating:**<br> Whether the individual has difficulty concentrating. Encoded as 0 (No) or 1 (Yes).<br>\n",
        "**LastCheckupTime:**<br> Indicates the last time the individual had a medical checkup. Encoded numerically to represent different time frames.<br>\n",
        "**BlindOrVisionDifficulty:**<br> Whether the individual has blindness or difficulty seeing. Encoded as 0 (No) or 1 (Yes).<br>\n",
        "**Sex:**<br> The sex of the individual. Typically encoded as 0 (Female) or 1 (Male).<br>\n",
        "**DifficultyDressingBathing:**<br> Whether the individual has difficulty dressing or bathing. Encoded as 0 (No) or 1 (Yes).<br>\n",
        "**DifficultyErrands:**<br> Whether the individual has difficulty running errands alone. Encoded as 0 (No) or 1 (Yes).<br>\n",
        "**DeafOrHardOfHearing:**<br> Whether the individual is deaf or has difficulty hearing. Encoded as 0 (No) or 1 (Yes).<br>\n",
        "**HadKidneyDisease:**<br> Whether the individual has had kidney disease. Encoded as 0 (No) or 1 (Yes).<br>\n",
        "**HadArthritis:**<br> Whether the individual has arthritis. Encoded as 0 (No) or 1 (Yes).<br>\n",
        "**PneumoVaxEver:**<br> Whether the individual has ever received a pneumococcal vaccine. Encoded as 0 (No) or 1 (Yes).<br>\n",
        "**HadCOPD:**<br> Whether the individual has COPD (Chronic Obstructive Pulmonary Disease). Encoded as 0 (No) or 1 (Yes).<br>\n",
        "**HadDiabetes:**<br> Whether the individual has diabetes. Encoded as 0 (No) or 1 (Yes).<br>\n",
        "**DifficultyWalking:**<br> Whether the individual has difficulty walking. Encoded as 0 (No) or 1 (Yes).<br>\n",
        "**ChestScan:**<br> Whether the individual has undergone a chest scan. Encoded as 0 (No) or 1 (Yes).<br>\n",
        "**AgeCategory:**<br>The age category of the individual. Encoded numerically to represent different age ranges.<br>\n",
        "**HadStroke:** <br>Whether the individual has had a stroke. Encoded as 0 (No) or 1 (Yes).<br>\n",
        "**HadAngina:** <br>Whether the individual has had angina. Encoded as 0 (No) or 1 (Yes).<br>\n",
        "**GeneralHealth:** <br>The general health condition of the individual. Encoded as 0 (Poor), 1 (Fair), 2 (Good), 3 (Very good), 4 (Excellent).<br>\n",
        "**PhysicalHealthDays:** <br>The number of days in poor physical health in the last month. Encoded numerically.<br>\n",
        "**MentalHealthDays:** <br>The number of days in poor mental health in the last month. Encoded numerically.<br>\n",
        "**SleepHours:** <br>The average number of hours the individual sleeps. Encoded numerically.<br>\n",
        "**WeightInKilograms:** <br>The weight of the individual in kilograms. Encoded numerically.<br>\n",
        "**BMI:** <br>The Body Mass Index of the individual. Encoded numerically.<br>"
      ],
      "metadata": {
        "id": "lDhQVIdplaug"
      }
    },
    {
      "cell_type": "code",
      "source": [],
      "metadata": {
        "id": "hb9aJeBhKXV8"
      },
      "execution_count": null,
      "outputs": []
    }
  ]
}